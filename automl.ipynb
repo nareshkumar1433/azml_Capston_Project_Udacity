{
 "cells": [
  {
   "cell_type": "markdown",
   "metadata": {},
   "source": [
    "# Automated ML\n",
    "\n",
    "TODO: Import Dependencies. In the cell below, import all the dependencies that you will need to complete the project."
   ]
  },
  {
   "cell_type": "code",
   "execution_count": 1,
   "metadata": {
    "gather": {
     "logged": 1598423888013
    },
    "jupyter": {
     "outputs_hidden": false,
     "source_hidden": false
    },
    "nteract": {
     "transient": {
      "deleting": false
     }
    }
   },
   "outputs": [],
   "source": [
    "from azureml.core import Workspace, Experiment\n",
    "from azureml.core.compute import ComputeTarget, AmlCompute\n",
    "from azureml.widgets import RunDetails\n",
    "import os\n",
    "import joblib\n",
    "\n",
    "from azureml.train.automl import AutoMLConfig\n",
    "from pprint import pprint # Used in printing automl model parameters\n",
    "from azureml.core import Model # Used to get model information"
   ]
  },
  {
   "cell_type": "markdown",
   "metadata": {},
   "source": [
    "## Dataset\n",
    "\n",
    "### Overview\n",
    "\n",
    "TODO: Get data. In the cell below, write code to access the data you will be using in this project. Remember that the dataset needs to be external."
   ]
  },
  {
   "cell_type": "code",
   "execution_count": 3,
   "metadata": {},
   "outputs": [],
   "source": [
    "from azureml.data.dataset_factory import TabularDatasetFactory\n",
    "\n",
    "data_loc = \"https://raw.githubusercontent.com/khalidw/Capstone-Project-Azure-Machine-Learning-Engineer/master/divorce.csv\"\n",
    "ds = TabularDatasetFactory.from_delimited_files(data_loc)\n",
    "data = ds.to_pandas_dataframe().dropna()"
   ]
  },
  {
   "cell_type": "code",
   "execution_count": 4,
   "metadata": {
    "gather": {
     "logged": 1598423890461
    },
    "jupyter": {
     "outputs_hidden": false,
     "source_hidden": false
    },
    "nteract": {
     "transient": {
      "deleting": false
     }
    }
   },
   "outputs": [],
   "source": [
    "ws = Workspace.from_config()\n",
    "\n",
    "# choose a name for experiment\n",
    "experiment_name = 'CapstoneExp'\n",
    "\n",
    "experiment=Experiment(ws, experiment_name)"
   ]
  },
  {
   "cell_type": "code",
   "execution_count": 5,
   "metadata": {},
   "outputs": [
    {
     "name": "stdout",
     "output_type": "stream",
     "text": [
      "InProgress..\n",
      "SucceededProvisioning operation finished, operation \"Succeeded\"\n",
      "Succeeded\n",
      "AmlCompute wait for completion finished\n",
      "\n",
      "Minimum number of nodes requested have been provisioned\n"
     ]
    }
   ],
   "source": [
    "# Compute name should contain only letters, digits, hyphen and should be 2-16 charachters long\n",
    "compute_name = \"optCompute\"\n",
    "try:\n",
    "    trainCluster = ComputeTarget(ws, compute_name)\n",
    "    print(f\"{compute_name} exists already\")\n",
    "except:\n",
    "    compute_config = AmlCompute.provisioning_configuration(vm_size=\"Standard_D2_V2\", max_nodes=5)\n",
    "    trainCluster = ComputeTarget.create(ws, compute_name, compute_config)\n",
    "trainCluster.wait_for_completion(show_output=True)"
   ]
  },
  {
   "cell_type": "markdown",
   "metadata": {},
   "source": [
    "## AutoML Configuration"
   ]
  },
  {
   "cell_type": "code",
   "execution_count": 6,
   "metadata": {
    "gather": {
     "logged": 1598429217746
    },
    "jupyter": {
     "outputs_hidden": false,
     "source_hidden": false
    },
    "nteract": {
     "transient": {
      "deleting": false
     }
    }
   },
   "outputs": [],
   "source": [
    "# TODO: Put your automl settings here\n",
    "automl_settings = {\n",
    "    \"experiment_timeout_minutes\": 20,\n",
    "    \"max_concurrent_iterations\": 5,\n",
    "    \"primary_metric\" : 'accuracy'\n",
    "}\n",
    "\n",
    "# TODO: Put your automl config here\n",
    "automl_config = AutoMLConfig(\n",
    "        task='classification',\n",
    "        compute_target=trainCluster,\n",
    "        training_data=ds,\n",
    "        label_column_name='Class',\n",
    "        n_cross_validations=5,\n",
    "        **automl_settings\n",
    ")"
   ]
  },
  {
   "cell_type": "code",
   "execution_count": 7,
   "metadata": {
    "gather": {
     "logged": 1598431107951
    },
    "jupyter": {
     "outputs_hidden": false,
     "source_hidden": false
    },
    "nteract": {
     "transient": {
      "deleting": false
     }
    }
   },
   "outputs": [
    {
     "name": "stdout",
     "output_type": "stream",
     "text": [
      "Submitting remote run.\n"
     ]
    },
    {
     "data": {
      "text/html": [
       "<table style=\"width:100%\"><tr><th>Experiment</th><th>Id</th><th>Type</th><th>Status</th><th>Details Page</th><th>Docs Page</th></tr><tr><td>CapstoneExp</td><td>AutoML_3c3d0d78-f1e8-490e-a8d9-3d58f1b64473</td><td>automl</td><td>NotStarted</td><td><a href=\"https://ml.azure.com/runs/AutoML_3c3d0d78-f1e8-490e-a8d9-3d58f1b64473?wsid=/subscriptions/976ee174-3882-4721-b90a-b5fef6b72f24/resourcegroups/aml-quickstarts-221321/workspaces/quick-starts-ws-221321&amp;tid=660b3398-b80e-49d2-bc5b-ac1dc93b5254\" target=\"_blank\" rel=\"noopener\">Link to Azure Machine Learning studio</a></td><td><a href=\"https://docs.microsoft.com/en-us/python/api/overview/azure/ml/intro?view=azure-ml-py\" target=\"_blank\" rel=\"noopener\">Link to Documentation</a></td></tr></table>"
      ],
      "text/plain": [
       "<IPython.core.display.HTML object>"
      ]
     },
     "metadata": {},
     "output_type": "display_data"
    }
   ],
   "source": [
    "# TODO: Submit your experiment\n",
    "remote_run = experiment.submit(automl_config)"
   ]
  },
  {
   "cell_type": "markdown",
   "metadata": {},
   "source": [
    "## Run Details\n",
    "\n",
    "TODO: In the cell below, use the `RunDetails` widget to show the different experiments."
   ]
  },
  {
   "cell_type": "code",
   "execution_count": 10,
   "metadata": {
    "gather": {
     "logged": 1598431121770
    },
    "jupyter": {
     "outputs_hidden": false,
     "source_hidden": false
    },
    "nteract": {
     "transient": {
      "deleting": false
     }
    }
   },
   "outputs": [
    {
     "data": {
      "application/vnd.jupyter.widget-view+json": {
       "model_id": "218112b74f6e4628b90194b05ae1e531",
       "version_major": 2,
       "version_minor": 0
      },
      "text/plain": [
       "_AutoMLWidget(widget_settings={'childWidgetDisplay': 'popup', 'send_telemetry': False, 'log_level': 'INFO', 's…"
      ]
     },
     "metadata": {},
     "output_type": "display_data"
    },
    {
     "data": {
      "application/aml.mini.widget.v1": "{\"status\": \"Completed\", \"workbench_run_details_uri\": \"https://ml.azure.com/runs/AutoML_3c3d0d78-f1e8-490e-a8d9-3d58f1b64473?wsid=/subscriptions/976ee174-3882-4721-b90a-b5fef6b72f24/resourcegroups/aml-quickstarts-221321/workspaces/quick-starts-ws-221321&tid=660b3398-b80e-49d2-bc5b-ac1dc93b5254\", \"run_id\": \"AutoML_3c3d0d78-f1e8-490e-a8d9-3d58f1b64473\", \"run_properties\": {\"run_id\": \"AutoML_3c3d0d78-f1e8-490e-a8d9-3d58f1b64473\", \"created_utc\": \"2023-01-04T13:37:24.540509Z\", \"properties\": {\"num_iterations\": \"1000\", \"training_type\": \"TrainFull\", \"acquisition_function\": \"EI\", \"primary_metric\": \"accuracy\", \"train_split\": \"0\", \"acquisition_parameter\": \"0\", \"num_cross_validation\": \"5\", \"target\": \"optCompute\", \"AMLSettingsJsonString\": \"{\\\"path\\\":null,\\\"name\\\":\\\"CapstoneExp\\\",\\\"subscription_id\\\":\\\"976ee174-3882-4721-b90a-b5fef6b72f24\\\",\\\"resource_group\\\":\\\"aml-quickstarts-221321\\\",\\\"workspace_name\\\":\\\"quick-starts-ws-221321\\\",\\\"region\\\":\\\"southcentralus\\\",\\\"compute_target\\\":\\\"optCompute\\\",\\\"spark_service\\\":null,\\\"azure_service\\\":\\\"remote\\\",\\\"many_models\\\":false,\\\"pipeline_fetch_max_batch_size\\\":1,\\\"enable_batch_run\\\":true,\\\"enable_parallel_run\\\":false,\\\"num_procs\\\":null,\\\"enable_run_restructure\\\":false,\\\"start_auxiliary_runs_before_parent_complete\\\":false,\\\"enable_code_generation\\\":true,\\\"iterations\\\":1000,\\\"primary_metric\\\":\\\"accuracy\\\",\\\"task_type\\\":\\\"classification\\\",\\\"positive_label\\\":null,\\\"data_script\\\":null,\\\"test_size\\\":0.0,\\\"test_include_predictions_only\\\":false,\\\"validation_size\\\":0.0,\\\"n_cross_validations\\\":5,\\\"y_min\\\":null,\\\"y_max\\\":null,\\\"num_classes\\\":null,\\\"featurization\\\":\\\"auto\\\",\\\"_ignore_package_version_incompatibilities\\\":false,\\\"is_timeseries\\\":false,\\\"max_cores_per_iteration\\\":1,\\\"max_concurrent_iterations\\\":5,\\\"iteration_timeout_minutes\\\":null,\\\"mem_in_mb\\\":null,\\\"enforce_time_on_windows\\\":false,\\\"experiment_timeout_minutes\\\":20,\\\"experiment_exit_score\\\":null,\\\"partition_column_names\\\":null,\\\"whitelist_models\\\":null,\\\"blacklist_algos\\\":[\\\"TensorFlowLinearClassifier\\\",\\\"TensorFlowDNN\\\"],\\\"supported_models\\\":[\\\"SGD\\\",\\\"BernoulliNaiveBayes\\\",\\\"XGBoostClassifier\\\",\\\"LightGBM\\\",\\\"DecisionTree\\\",\\\"LinearSVM\\\",\\\"TensorFlowLinearClassifier\\\",\\\"ExtremeRandomTrees\\\",\\\"GradientBoosting\\\",\\\"LogisticRegression\\\",\\\"RandomForest\\\",\\\"TensorFlowDNN\\\",\\\"KNN\\\",\\\"SVM\\\",\\\"AveragedPerceptronClassifier\\\",\\\"MultinomialNaiveBayes\\\",\\\"TabnetClassifier\\\"],\\\"private_models\\\":[],\\\"auto_blacklist\\\":true,\\\"blacklist_samples_reached\\\":false,\\\"exclude_nan_labels\\\":true,\\\"verbosity\\\":20,\\\"_debug_log\\\":\\\"azureml_automl.log\\\",\\\"show_warnings\\\":false,\\\"model_explainability\\\":true,\\\"service_url\\\":null,\\\"sdk_url\\\":null,\\\"sdk_packages\\\":null,\\\"enable_onnx_compatible_models\\\":false,\\\"enable_split_onnx_featurizer_estimator_models\\\":false,\\\"vm_type\\\":\\\"STANDARD_D2_V2\\\",\\\"telemetry_verbosity\\\":20,\\\"send_telemetry\\\":true,\\\"enable_dnn\\\":false,\\\"scenario\\\":\\\"AutoML\\\",\\\"environment_label\\\":null,\\\"save_mlflow\\\":false,\\\"enable_categorical_indicators\\\":false,\\\"force_text_dnn\\\":false,\\\"enable_feature_sweeping\\\":true,\\\"enable_early_stopping\\\":true,\\\"early_stopping_n_iters\\\":10,\\\"arguments\\\":null,\\\"dataset_id\\\":\\\"4ac32ddf-4693-4bb1-adcd-4333832ed9c6\\\",\\\"hyperdrive_config\\\":null,\\\"validation_dataset_id\\\":null,\\\"run_source\\\":null,\\\"metrics\\\":null,\\\"enable_metric_confidence\\\":false,\\\"enable_ensembling\\\":true,\\\"enable_stack_ensembling\\\":true,\\\"ensemble_iterations\\\":15,\\\"enable_tf\\\":false,\\\"enable_subsampling\\\":null,\\\"subsample_seed\\\":null,\\\"enable_nimbusml\\\":false,\\\"enable_streaming\\\":false,\\\"force_streaming\\\":false,\\\"track_child_runs\\\":true,\\\"n_best_runs\\\":1,\\\"allowed_private_models\\\":[],\\\"label_column_name\\\":\\\"Class\\\",\\\"weight_column_name\\\":null,\\\"cv_split_column_names\\\":null,\\\"enable_local_managed\\\":false,\\\"_local_managed_run_id\\\":null,\\\"cost_mode\\\":1,\\\"lag_length\\\":0,\\\"metric_operation\\\":\\\"maximize\\\",\\\"preprocess\\\":true}\", \"DataPrepJsonString\": \"{\\\\\\\"training_data\\\\\\\": {\\\\\\\"datasetId\\\\\\\": \\\\\\\"4ac32ddf-4693-4bb1-adcd-4333832ed9c6\\\\\\\"}, \\\\\\\"datasets\\\\\\\": 0}\", \"EnableSubsampling\": null, \"runTemplate\": \"AutoML\", \"azureml.runsource\": \"automl\", \"display_task_type\": \"classification\", \"dependencies_versions\": \"{\\\"azureml-widgets\\\": \\\"1.47.0\\\", \\\"azureml-training-tabular\\\": \\\"1.47.0\\\", \\\"azureml-train\\\": \\\"1.47.0\\\", \\\"azureml-train-restclients-hyperdrive\\\": \\\"1.47.0\\\", \\\"azureml-train-core\\\": \\\"1.47.0\\\", \\\"azureml-train-automl\\\": \\\"1.47.0\\\", \\\"azureml-train-automl-runtime\\\": \\\"1.47.0\\\", \\\"azureml-train-automl-client\\\": \\\"1.47.0\\\", \\\"azureml-tensorboard\\\": \\\"1.47.0\\\", \\\"azureml-telemetry\\\": \\\"1.47.0\\\", \\\"azureml-sdk\\\": \\\"1.47.0\\\", \\\"azureml-samples\\\": \\\"0+unknown\\\", \\\"azureml-responsibleai\\\": \\\"1.47.0\\\", \\\"azureml-pipeline\\\": \\\"1.47.0\\\", \\\"azureml-pipeline-steps\\\": \\\"1.47.0\\\", \\\"azureml-pipeline-core\\\": \\\"1.47.0\\\", \\\"azureml-opendatasets\\\": \\\"1.47.0\\\", \\\"azureml-mlflow\\\": \\\"1.47.0\\\", \\\"azureml-interpret\\\": \\\"1.47.0\\\", \\\"azureml-inference-server-http\\\": \\\"0.7.6\\\", \\\"azureml-explain-model\\\": \\\"1.47.0\\\", \\\"azureml-defaults\\\": \\\"1.47.0\\\", \\\"azureml-dataset-runtime\\\": \\\"1.47.0\\\", \\\"azureml-dataprep\\\": \\\"4.5.7\\\", \\\"azureml-dataprep-rslex\\\": \\\"2.11.4\\\", \\\"azureml-dataprep-native\\\": \\\"38.0.0\\\", \\\"azureml-datadrift\\\": \\\"1.47.0\\\", \\\"azureml-core\\\": \\\"1.47.0\\\", \\\"azureml-contrib-services\\\": \\\"1.47.0\\\", \\\"azureml-contrib-server\\\": \\\"1.47.0\\\", \\\"azureml-contrib-reinforcementlearning\\\": \\\"1.47.0\\\", \\\"azureml-contrib-pipeline-steps\\\": \\\"1.47.0\\\", \\\"azureml-contrib-notebook\\\": \\\"1.47.0\\\", \\\"azureml-contrib-fairness\\\": \\\"1.47.0\\\", \\\"azureml-contrib-dataset\\\": \\\"1.47.0\\\", \\\"azureml-contrib-automl-pipeline-steps\\\": \\\"1.47.0\\\", \\\"azureml-cli-common\\\": \\\"1.47.0\\\", \\\"azureml-automl-runtime\\\": \\\"1.47.0\\\", \\\"azureml-automl-dnn-nlp\\\": \\\"1.47.0\\\", \\\"azureml-automl-core\\\": \\\"1.47.0\\\", \\\"azureml-accel-models\\\": \\\"1.47.0\\\"}\", \"_aml_system_scenario_identification\": \"Remote.Parent\", \"ClientType\": \"SDK\", \"environment_cpu_name\": \"AzureML-AutoML\", \"environment_cpu_label\": \"prod\", \"environment_gpu_name\": \"AzureML-AutoML-GPU\", \"environment_gpu_label\": \"prod\", \"root_attribution\": \"automl\", \"attribution\": \"AutoML\", \"Orchestrator\": \"AutoML\", \"CancelUri\": \"https://southcentralus.api.azureml.ms/jasmine/v1.0/subscriptions/976ee174-3882-4721-b90a-b5fef6b72f24/resourceGroups/aml-quickstarts-221321/providers/Microsoft.MachineLearningServices/workspaces/quick-starts-ws-221321/experimentids/30e7fbe9-dae1-4871-acdf-d2a7d22879ed/cancel/AutoML_3c3d0d78-f1e8-490e-a8d9-3d58f1b64473\", \"ClientSdkVersion\": \"1.48.0\", \"snapshotId\": \"00000000-0000-0000-0000-000000000000\", \"SetupRunId\": \"AutoML_3c3d0d78-f1e8-490e-a8d9-3d58f1b64473_setup\", \"SetupRunContainerId\": \"dcid.AutoML_3c3d0d78-f1e8-490e-a8d9-3d58f1b64473_setup\", \"FeaturizationRunJsonPath\": \"featurizer_container.json\", \"FeaturizationRunId\": \"AutoML_3c3d0d78-f1e8-490e-a8d9-3d58f1b64473_featurize\", \"ProblemInfoJsonString\": \"{\\\"dataset_num_categorical\\\": 0, \\\"is_sparse\\\": true, \\\"subsampling\\\": false, \\\"has_extra_col\\\": true, \\\"dataset_classes\\\": 2, \\\"dataset_features\\\": 270, \\\"dataset_samples\\\": 170, \\\"single_frequency_class_detected\\\": false}\", \"ModelExplainRunId\": \"AutoML_3c3d0d78-f1e8-490e-a8d9-3d58f1b64473_ModelExplain\"}, \"tags\": {\"model_explain_run\": \"best_run\", \"_aml_system_automl_run_workspace_id\": \"df7f91fd-8eaa-4a91-9f6c-5789051f4953\", \"_aml_system_azureml.automlComponent\": \"AutoML\", \"pipeline_id\": \"\", \"score\": \"\", \"predicted_cost\": \"\", \"fit_time\": \"\", \"training_percent\": \"\", \"iteration\": \"\", \"run_preprocessor\": \"\", \"run_algorithm\": \"\", \"dynamic_allowlisting_iterations\": \"<24>;<30>;<35>;<40>;\", \"_aml_system_azureml.automl_early_exit_message\": \"No scores improved over last 10 iterations, so experiment stopped early. This early stopping behavior can be disabled by setting enable_early_stopping = False in AutoMLConfig for notebook/python SDK runs.\", \"automl_best_child_run_id\": \"AutoML_3c3d0d78-f1e8-490e-a8d9-3d58f1b64473_24\", \"model_explain_best_run_child_id\": \"AutoML_3c3d0d78-f1e8-490e-a8d9-3d58f1b64473_24\"}, \"end_time_utc\": \"2023-01-04T13:56:39.472481Z\", \"status\": \"Completed\", \"log_files\": {}, \"log_groups\": [], \"run_duration\": \"0:19:14\", \"run_number\": \"1672839444\", \"run_queued_details\": {\"status\": \"Completed\", \"details\": null}}, \"child_runs\": [{\"run_id\": \"AutoML_3c3d0d78-f1e8-490e-a8d9-3d58f1b64473_setup\", \"run_number\": 1672839457, \"metric\": null, \"status\": \"Completed\", \"run_type\": \"azureml.scriptrun\", \"training_percent\": null, \"start_time\": \"2023-01-04T13:40:31.703881Z\", \"end_time\": \"2023-01-04T13:42:22.440846Z\", \"created_time\": \"2023-01-04T13:37:37.426236Z\", \"created_time_dt\": \"2023-01-04T13:37:37.426236Z\", \"duration\": \"0:04:45\", \"iteration\": null, \"goal\": null, \"run_name\": \"Completed\", \"run_properties\": null}, {\"run_id\": \"AutoML_3c3d0d78-f1e8-490e-a8d9-3d58f1b64473_featurize\", \"run_number\": 1672839742, \"metric\": null, \"status\": \"Completed\", \"run_type\": \"automl.featurization\", \"training_percent\": null, \"start_time\": \"2023-01-04T13:42:23.153227Z\", \"end_time\": \"2023-01-04T13:47:18.208219Z\", \"created_time\": \"2023-01-04T13:42:22.783692Z\", \"created_time_dt\": \"2023-01-04T13:42:22.783692Z\", \"duration\": \"0:04:55\", \"iteration\": null, \"goal\": null, \"run_name\": \"Completed\", \"run_properties\": null}, {\"run_id\": \"AutoML_3c3d0d78-f1e8-490e-a8d9-3d58f1b64473_0\", \"run_number\": 1672840040, \"metric\": null, \"status\": \"Completed\", \"run_type\": null, \"training_percent\": \"100\", \"start_time\": \"2023-01-04T13:47:40.500874Z\", \"end_time\": \"2023-01-04T13:47:49.781052Z\", \"created_time\": \"2023-01-04T13:47:20.08956Z\", \"created_time_dt\": \"2023-01-04T13:47:20.08956Z\", \"duration\": \"0:00:29\", \"iteration\": \"0\", \"goal\": \"accuracy_max\", \"run_name\": \"MaxAbsScaler, LightGBM\", \"run_properties\": \"copy=True\", \"primary_metric\": 0.97058824, \"best_metric\": 0.97058824}, {\"run_id\": \"AutoML_3c3d0d78-f1e8-490e-a8d9-3d58f1b64473_1\", \"run_number\": 1672840041, \"metric\": null, \"status\": \"Completed\", \"run_type\": null, \"training_percent\": \"100\", \"start_time\": \"2023-01-04T13:47:50.24399Z\", \"end_time\": \"2023-01-04T13:48:00.93348Z\", \"created_time\": \"2023-01-04T13:47:21.839703Z\", \"created_time_dt\": \"2023-01-04T13:47:21.839703Z\", \"duration\": \"0:00:39\", \"iteration\": \"1\", \"goal\": \"accuracy_max\", \"run_name\": \"MaxAbsScaler, XGBoostClassifier\", \"run_properties\": \"copy=True\", \"primary_metric\": 0.97058824, \"best_metric\": 0.97058824}, {\"run_id\": \"AutoML_3c3d0d78-f1e8-490e-a8d9-3d58f1b64473_2\", \"run_number\": 1672840042, \"metric\": null, \"status\": \"Completed\", \"run_type\": null, \"training_percent\": \"100\", \"start_time\": \"2023-01-04T13:48:01.351869Z\", \"end_time\": \"2023-01-04T13:48:15.940147Z\", \"created_time\": \"2023-01-04T13:47:22.315289Z\", \"created_time_dt\": \"2023-01-04T13:47:22.315289Z\", \"duration\": \"0:00:53\", \"iteration\": \"2\", \"goal\": \"accuracy_max\", \"run_name\": \"MaxAbsScaler, ExtremeRandomTrees\", \"run_properties\": \"copy=True\", \"primary_metric\": 0.97647059, \"best_metric\": 0.97647059}, {\"run_id\": \"AutoML_3c3d0d78-f1e8-490e-a8d9-3d58f1b64473_worker_0\", \"run_number\": 1672840043, \"metric\": null, \"status\": \"Completed\", \"run_type\": \"azureml.scriptrun\", \"training_percent\": null, \"start_time\": \"2023-01-04T13:47:30.729635Z\", \"end_time\": \"2023-01-04T13:48:34.263841Z\", \"created_time\": \"2023-01-04T13:47:23.042515Z\", \"created_time_dt\": \"2023-01-04T13:47:23.042515Z\", \"duration\": \"0:01:11\", \"iteration\": null, \"goal\": null, \"run_name\": \"Completed\", \"run_properties\": null}, {\"run_id\": \"AutoML_3c3d0d78-f1e8-490e-a8d9-3d58f1b64473_worker_1\", \"run_number\": 1672840044, \"metric\": null, \"status\": \"Completed\", \"run_type\": \"azureml.scriptrun\", \"training_percent\": null, \"start_time\": \"2023-01-04T13:48:37.458151Z\", \"end_time\": \"2023-01-04T13:49:39.30658Z\", \"created_time\": \"2023-01-04T13:47:24.945554Z\", \"created_time_dt\": \"2023-01-04T13:47:24.945554Z\", \"duration\": \"0:02:14\", \"iteration\": null, \"goal\": null, \"run_name\": \"Completed\", \"run_properties\": null}, {\"run_id\": \"AutoML_3c3d0d78-f1e8-490e-a8d9-3d58f1b64473_8\", \"run_number\": 1672840045, \"metric\": null, \"status\": \"Completed\", \"run_type\": null, \"training_percent\": \"100\", \"start_time\": \"2023-01-04T13:49:54.070327Z\", \"end_time\": \"2023-01-04T13:50:03.913601Z\", \"created_time\": \"2023-01-04T13:47:25.176959Z\", \"created_time_dt\": \"2023-01-04T13:47:25.176959Z\", \"duration\": \"0:02:38\", \"iteration\": \"8\", \"goal\": \"accuracy_max\", \"run_name\": \"StandardScalerWrapper, ExtremeRandomTrees\", \"run_properties\": \"copy=True, with_mean=False, with_std=False\", \"primary_metric\": 0.97647059, \"best_metric\": 0.97647059}, {\"run_id\": \"AutoML_3c3d0d78-f1e8-490e-a8d9-3d58f1b64473_10\", \"run_number\": 1672840046, \"metric\": null, \"status\": \"Completed\", \"run_type\": null, \"training_percent\": \"100\", \"start_time\": \"2023-01-04T13:50:13.259853Z\", \"end_time\": \"2023-01-04T13:50:26.362227Z\", \"created_time\": \"2023-01-04T13:47:26.066132Z\", \"created_time_dt\": \"2023-01-04T13:47:26.066132Z\", \"duration\": \"0:03:00\", \"iteration\": \"10\", \"goal\": \"accuracy_max\", \"run_name\": \"SparseNormalizer, LightGBM\", \"run_properties\": \"copy=True, norm='l1'\", \"primary_metric\": 0.96470588, \"best_metric\": 0.97647059}, {\"run_id\": \"AutoML_3c3d0d78-f1e8-490e-a8d9-3d58f1b64473_worker_2\", \"run_number\": 1672840047, \"metric\": null, \"status\": \"Completed\", \"run_type\": \"azureml.scriptrun\", \"training_percent\": null, \"start_time\": \"2023-01-04T13:49:44.306822Z\", \"end_time\": \"2023-01-04T13:50:43.425309Z\", \"created_time\": \"2023-01-04T13:47:27.678227Z\", \"created_time_dt\": \"2023-01-04T13:47:27.678227Z\", \"duration\": \"0:03:15\", \"iteration\": null, \"goal\": null, \"run_name\": \"Completed\", \"run_properties\": null}, {\"run_id\": \"AutoML_3c3d0d78-f1e8-490e-a8d9-3d58f1b64473_13\", \"run_number\": 1672840049, \"metric\": null, \"status\": \"Completed\", \"run_type\": null, \"training_percent\": \"100\", \"start_time\": \"2023-01-04T13:51:29.124281Z\", \"end_time\": \"2023-01-04T13:51:37.489797Z\", \"created_time\": \"2023-01-04T13:47:29.592398Z\", \"created_time_dt\": \"2023-01-04T13:47:29.592398Z\", \"duration\": \"0:04:07\", \"iteration\": \"13\", \"goal\": \"accuracy_max\", \"run_name\": \"MaxAbsScaler, SGD\", \"run_properties\": \"copy=True\", \"primary_metric\": 0.97647059, \"best_metric\": 0.97647059}, {\"run_id\": \"AutoML_3c3d0d78-f1e8-490e-a8d9-3d58f1b64473_14\", \"run_number\": 1672840050, \"metric\": null, \"status\": \"Completed\", \"run_type\": null, \"training_percent\": \"100\", \"start_time\": \"2023-01-04T13:51:37.879005Z\", \"end_time\": \"2023-01-04T13:51:48.308786Z\", \"created_time\": \"2023-01-04T13:47:30.137724Z\", \"created_time_dt\": \"2023-01-04T13:47:30.137724Z\", \"duration\": \"0:04:18\", \"iteration\": \"14\", \"goal\": \"accuracy_max\", \"run_name\": \"StandardScalerWrapper, XGBoostClassifier\", \"run_properties\": \"copy=True, with_mean=False, with_std=False\", \"primary_metric\": 0.97647059, \"best_metric\": 0.97647059}, {\"run_id\": \"AutoML_3c3d0d78-f1e8-490e-a8d9-3d58f1b64473_worker_3\", \"run_number\": 1672840051, \"metric\": null, \"status\": \"Completed\", \"run_type\": \"azureml.scriptrun\", \"training_percent\": null, \"start_time\": \"2023-01-04T13:50:12.007591Z\", \"end_time\": \"2023-01-04T13:52:09.74906Z\", \"created_time\": \"2023-01-04T13:47:31.057251Z\", \"created_time_dt\": \"2023-01-04T13:47:31.057251Z\", \"duration\": \"0:04:38\", \"iteration\": null, \"goal\": null, \"run_name\": \"Completed\", \"run_properties\": null}, {\"run_id\": \"AutoML_3c3d0d78-f1e8-490e-a8d9-3d58f1b64473_worker_4\", \"run_number\": 1672840052, \"metric\": null, \"status\": \"Completed\", \"run_type\": \"azureml.scriptrun\", \"training_percent\": null, \"start_time\": \"2023-01-04T13:50:11.525838Z\", \"end_time\": \"2023-01-04T13:52:24.641408Z\", \"created_time\": \"2023-01-04T13:47:32.883411Z\", \"created_time_dt\": \"2023-01-04T13:47:32.883411Z\", \"duration\": \"0:04:51\", \"iteration\": null, \"goal\": null, \"run_name\": \"Completed\", \"run_properties\": null}, {\"run_id\": \"AutoML_3c3d0d78-f1e8-490e-a8d9-3d58f1b64473_22\", \"run_number\": 1672840311, \"metric\": null, \"status\": \"Completed\", \"run_type\": \"azureml.scriptrun\", \"training_percent\": \"100\", \"start_time\": \"2023-01-04T13:52:05.879967Z\", \"end_time\": \"2023-01-04T13:52:30.654826Z\", \"created_time\": \"2023-01-04T13:51:51.349689Z\", \"created_time_dt\": \"2023-01-04T13:51:51.349689Z\", \"duration\": \"0:00:39\", \"iteration\": \"22\", \"goal\": \"accuracy_max\", \"run_name\": \"SparseNormalizer, XGBoostClassifier\", \"run_properties\": \"copy=True, norm='l1'\", \"primary_metric\": 0.95294118, \"best_metric\": 0.97647059}, {\"run_id\": \"AutoML_3c3d0d78-f1e8-490e-a8d9-3d58f1b64473_23\", \"run_number\": 1672840338, \"metric\": null, \"status\": \"Completed\", \"run_type\": \"azureml.scriptrun\", \"training_percent\": \"100\", \"start_time\": \"2023-01-04T13:52:23.910709Z\", \"end_time\": \"2023-01-04T13:52:52.319442Z\", \"created_time\": \"2023-01-04T13:52:18.727414Z\", \"created_time_dt\": \"2023-01-04T13:52:18.727414Z\", \"duration\": \"0:00:33\", \"iteration\": \"23\", \"goal\": \"accuracy_max\", \"run_name\": \"StandardScalerWrapper, LogisticRegression\", \"run_properties\": \"copy=True, with_mean=False, with_std=True\", \"primary_metric\": 0.97647059, \"best_metric\": 0.97647059}, {\"run_id\": \"AutoML_3c3d0d78-f1e8-490e-a8d9-3d58f1b64473_25\", \"run_number\": 1672840354, \"metric\": null, \"status\": \"Completed\", \"run_type\": \"azureml.scriptrun\", \"training_percent\": \"100\", \"start_time\": \"2023-01-04T13:52:42.008149Z\", \"end_time\": \"2023-01-04T13:53:06.687831Z\", \"created_time\": \"2023-01-04T13:52:34.985136Z\", \"created_time_dt\": \"2023-01-04T13:52:34.985136Z\", \"duration\": \"0:00:31\", \"iteration\": \"25\", \"goal\": \"accuracy_max\", \"run_name\": \"StandardScalerWrapper, RandomForest\", \"run_properties\": \"copy=True, with_mean=False, with_std=False\", \"primary_metric\": 0.97647059, \"best_metric\": 0.97647059}, {\"run_id\": \"AutoML_3c3d0d78-f1e8-490e-a8d9-3d58f1b64473_26\", \"run_number\": 1672840373, \"metric\": null, \"status\": \"Completed\", \"run_type\": \"azureml.scriptrun\", \"training_percent\": \"100\", \"start_time\": \"2023-01-04T13:52:59.28866Z\", \"end_time\": \"2023-01-04T13:53:27.058822Z\", \"created_time\": \"2023-01-04T13:52:53.90766Z\", \"created_time_dt\": \"2023-01-04T13:52:53.90766Z\", \"duration\": \"0:00:33\", \"iteration\": \"26\", \"goal\": \"accuracy_max\", \"run_name\": \"SparseNormalizer, LightGBM\", \"run_properties\": \"copy=True, norm='max'\", \"primary_metric\": 0.96470588, \"best_metric\": 0.97647059}, {\"run_id\": \"AutoML_3c3d0d78-f1e8-490e-a8d9-3d58f1b64473_27\", \"run_number\": 1672840388, \"metric\": null, \"status\": \"Completed\", \"run_type\": \"azureml.scriptrun\", \"training_percent\": \"100\", \"start_time\": \"2023-01-04T13:53:17.687827Z\", \"end_time\": \"2023-01-04T13:53:43.43285Z\", \"created_time\": \"2023-01-04T13:53:08.201361Z\", \"created_time_dt\": \"2023-01-04T13:53:08.201361Z\", \"duration\": \"0:00:35\", \"iteration\": \"27\", \"goal\": \"accuracy_max\", \"run_name\": \"MaxAbsScaler, ExtremeRandomTrees\", \"run_properties\": \"copy=True\", \"primary_metric\": 0.96470588, \"best_metric\": 0.97647059}, {\"run_id\": \"AutoML_3c3d0d78-f1e8-490e-a8d9-3d58f1b64473_28\", \"run_number\": 1672840390, \"metric\": null, \"status\": \"Completed\", \"run_type\": \"azureml.scriptrun\", \"training_percent\": \"100\", \"start_time\": \"2023-01-04T13:53:17.539482Z\", \"end_time\": \"2023-01-04T13:53:45.848732Z\", \"created_time\": \"2023-01-04T13:53:10.592356Z\", \"created_time_dt\": \"2023-01-04T13:53:10.592356Z\", \"duration\": \"0:00:35\", \"iteration\": \"28\", \"goal\": \"accuracy_max\", \"run_name\": \"MaxAbsScaler, LightGBM\", \"run_properties\": \"copy=True\", \"primary_metric\": 0.96470588, \"best_metric\": 0.97647059}, {\"run_id\": \"AutoML_3c3d0d78-f1e8-490e-a8d9-3d58f1b64473_29\", \"run_number\": 1672840408, \"metric\": null, \"status\": \"Completed\", \"run_type\": \"azureml.scriptrun\", \"training_percent\": \"100\", \"start_time\": \"2023-01-04T13:53:33.580089Z\", \"end_time\": \"2023-01-04T13:54:00.844377Z\", \"created_time\": \"2023-01-04T13:53:28.730634Z\", \"created_time_dt\": \"2023-01-04T13:53:28.730634Z\", \"duration\": \"0:00:32\", \"iteration\": \"29\", \"goal\": \"accuracy_max\", \"run_name\": \"MaxAbsScaler, LightGBM\", \"run_properties\": \"copy=True\", \"primary_metric\": 0.98235294, \"best_metric\": 0.98235294}, {\"run_id\": \"AutoML_3c3d0d78-f1e8-490e-a8d9-3d58f1b64473_30\", \"run_number\": 1672840425, \"metric\": null, \"status\": \"Completed\", \"run_type\": \"azureml.scriptrun\", \"training_percent\": \"100\", \"start_time\": \"2023-01-04T13:53:53.212266Z\", \"end_time\": \"2023-01-04T13:54:19.187137Z\", \"created_time\": \"2023-01-04T13:53:45.812491Z\", \"created_time_dt\": \"2023-01-04T13:53:45.812491Z\", \"duration\": \"0:00:33\", \"iteration\": \"30\", \"goal\": \"accuracy_max\", \"run_name\": \"TruncatedSVDWrapper, XGBoostClassifier\", \"run_properties\": \"n_components=0.9005263157894737, random_state=None\", \"primary_metric\": 0.44705882, \"best_metric\": 0.98235294}, {\"run_id\": \"AutoML_3c3d0d78-f1e8-490e-a8d9-3d58f1b64473_31\", \"run_number\": 1672840427, \"metric\": null, \"status\": \"Completed\", \"run_type\": \"azureml.scriptrun\", \"training_percent\": \"100\", \"start_time\": \"2023-01-04T13:53:53.307757Z\", \"end_time\": \"2023-01-04T13:54:21.97116Z\", \"created_time\": \"2023-01-04T13:53:47.989347Z\", \"created_time_dt\": \"2023-01-04T13:53:47.989347Z\", \"duration\": \"0:00:33\", \"iteration\": \"31\", \"goal\": \"accuracy_max\", \"run_name\": \"SparseNormalizer, XGBoostClassifier\", \"run_properties\": \"copy=True, norm='l2'\", \"primary_metric\": 0.97058824, \"best_metric\": 0.98235294}, {\"run_id\": \"AutoML_3c3d0d78-f1e8-490e-a8d9-3d58f1b64473_32\", \"run_number\": 1672840437, \"metric\": null, \"status\": \"Completed\", \"run_type\": \"azureml.scriptrun\", \"training_percent\": \"100\", \"start_time\": \"2023-01-04T13:54:03.493375Z\", \"end_time\": \"2023-01-04T13:54:34.689925Z\", \"created_time\": \"2023-01-04T13:53:57.253016Z\", \"created_time_dt\": \"2023-01-04T13:53:57.253016Z\", \"duration\": \"0:00:37\", \"iteration\": \"32\", \"goal\": \"accuracy_max\", \"run_name\": \"SparseNormalizer, XGBoostClassifier\", \"run_properties\": \"copy=True, norm='max'\", \"primary_metric\": 0.98235294, \"best_metric\": 0.98235294}, {\"run_id\": \"AutoML_3c3d0d78-f1e8-490e-a8d9-3d58f1b64473_33\", \"run_number\": 1672840442, \"metric\": null, \"status\": \"Completed\", \"run_type\": \"azureml.scriptrun\", \"training_percent\": \"100\", \"start_time\": \"2023-01-04T13:54:08.019893Z\", \"end_time\": \"2023-01-04T13:54:35.115317Z\", \"created_time\": \"2023-01-04T13:54:02.403414Z\", \"created_time_dt\": \"2023-01-04T13:54:02.403414Z\", \"duration\": \"0:00:32\", \"iteration\": \"33\", \"goal\": \"accuracy_max\", \"run_name\": \"SparseNormalizer, XGBoostClassifier\", \"run_properties\": \"copy=True, norm='l2'\", \"primary_metric\": 0.95882353, \"best_metric\": 0.98235294}, {\"run_id\": \"AutoML_3c3d0d78-f1e8-490e-a8d9-3d58f1b64473_34\", \"run_number\": 1672840460, \"metric\": null, \"status\": \"Completed\", \"run_type\": \"azureml.scriptrun\", \"training_percent\": \"100\", \"start_time\": \"2023-01-04T13:54:27.477095Z\", \"end_time\": \"2023-01-04T13:54:58.689422Z\", \"created_time\": \"2023-01-04T13:54:20.659258Z\", \"created_time_dt\": \"2023-01-04T13:54:20.659258Z\", \"duration\": \"0:00:38\", \"iteration\": \"34\", \"goal\": \"accuracy_max\", \"run_name\": \"StandardScalerWrapper, RandomForest\", \"run_properties\": \"copy=True, with_mean=False, with_std=True\", \"primary_metric\": 0.97647059, \"best_metric\": 0.98235294}, {\"run_id\": \"AutoML_3c3d0d78-f1e8-490e-a8d9-3d58f1b64473_35\", \"run_number\": 1672840464, \"metric\": null, \"status\": \"Completed\", \"run_type\": \"azureml.scriptrun\", \"training_percent\": \"100\", \"start_time\": \"2023-01-04T13:54:32.496097Z\", \"end_time\": \"2023-01-04T13:55:01.518439Z\", \"created_time\": \"2023-01-04T13:54:24.47297Z\", \"created_time_dt\": \"2023-01-04T13:54:24.47297Z\", \"duration\": \"0:00:37\", \"iteration\": \"35\", \"goal\": \"accuracy_max\", \"run_name\": \"TruncatedSVDWrapper, XGBoostClassifier\", \"run_properties\": \"n_components=0.3068421052631579, random_state=None\", \"primary_metric\": 0.98235294, \"best_metric\": 0.98235294}, {\"run_id\": \"AutoML_3c3d0d78-f1e8-490e-a8d9-3d58f1b64473_36\", \"run_number\": 1672840476, \"metric\": null, \"status\": \"Completed\", \"run_type\": \"azureml.scriptrun\", \"training_percent\": \"100\", \"start_time\": \"2023-01-04T13:54:42.566122Z\", \"end_time\": \"2023-01-04T13:55:08.853772Z\", \"created_time\": \"2023-01-04T13:54:36.18509Z\", \"created_time_dt\": \"2023-01-04T13:54:36.18509Z\", \"duration\": \"0:00:32\", \"iteration\": \"36\", \"goal\": \"accuracy_max\", \"run_name\": \"StandardScalerWrapper, RandomForest\", \"run_properties\": \"copy=True, with_mean=False, with_std=True\", \"primary_metric\": 0.98235294, \"best_metric\": 0.98235294}, {\"run_id\": \"AutoML_3c3d0d78-f1e8-490e-a8d9-3d58f1b64473_37\", \"run_number\": 1672840478, \"metric\": null, \"status\": \"Completed\", \"run_type\": \"azureml.scriptrun\", \"training_percent\": \"100\", \"start_time\": \"2023-01-04T13:54:43.44015Z\", \"end_time\": \"2023-01-04T13:55:08.883648Z\", \"created_time\": \"2023-01-04T13:54:38.315072Z\", \"created_time_dt\": \"2023-01-04T13:54:38.315072Z\", \"duration\": \"0:00:30\", \"iteration\": \"37\", \"goal\": \"accuracy_max\", \"run_name\": \"MaxAbsScaler, LightGBM\", \"run_properties\": \"copy=True\", \"primary_metric\": 0.97647059, \"best_metric\": 0.98235294}, {\"run_id\": \"AutoML_3c3d0d78-f1e8-490e-a8d9-3d58f1b64473_38\", \"run_number\": 1672840500, \"metric\": null, \"status\": \"Completed\", \"run_type\": \"azureml.scriptrun\", \"training_percent\": \"100\", \"start_time\": \"2023-01-04T13:55:05.815184Z\", \"end_time\": \"2023-01-04T13:55:31.529663Z\", \"created_time\": \"2023-01-04T13:55:00.227756Z\", \"created_time_dt\": \"2023-01-04T13:55:00.227756Z\", \"duration\": \"0:00:31\", \"iteration\": \"38\", \"goal\": \"accuracy_max\", \"run_name\": \"StandardScalerWrapper, XGBoostClassifier\", \"run_properties\": \"copy=True, with_mean=False, with_std=False\", \"primary_metric\": 0.97058824, \"best_metric\": 0.98235294}, {\"run_id\": \"AutoML_3c3d0d78-f1e8-490e-a8d9-3d58f1b64473_39\", \"run_number\": 1672840503, \"metric\": null, \"status\": \"Canceled\", \"run_type\": \"azureml.scriptrun\", \"training_percent\": \"100\", \"start_time\": \"2023-01-04T13:55:08.647505Z\", \"end_time\": \"2023-01-04T13:55:32.219071Z\", \"created_time\": \"2023-01-04T13:55:03.192766Z\", \"created_time_dt\": \"2023-01-04T13:55:03.192766Z\", \"duration\": \"0:00:29\", \"iteration\": \"39\", \"goal\": \"accuracy_max\", \"run_name\": \"SparseNormalizer, XGBoostClassifier\", \"run_properties\": \"copy=True, norm='l1'\", \"primary_metric\": 0.95294118, \"best_metric\": 0.98235294}, {\"run_id\": \"AutoML_3c3d0d78-f1e8-490e-a8d9-3d58f1b64473_40\", \"run_number\": 1672840511, \"metric\": null, \"status\": \"Canceled\", \"run_type\": \"azureml.scriptrun\", \"training_percent\": \"100\", \"start_time\": \"2023-01-04T13:55:16.789824Z\", \"end_time\": \"2023-01-04T13:55:32.207617Z\", \"created_time\": \"2023-01-04T13:55:11.606218Z\", \"created_time_dt\": \"2023-01-04T13:55:11.606218Z\", \"duration\": \"0:00:20\", \"iteration\": \"40\", \"goal\": \"accuracy_max\", \"run_name\": \"TruncatedSVDWrapper, XGBoostClassifier\", \"run_properties\": \"n_components=0.01, random_state=None\", \"primary_metric\": 0.98235294, \"best_metric\": 0.98235294}, {\"run_id\": \"AutoML_3c3d0d78-f1e8-490e-a8d9-3d58f1b64473_42\", \"run_number\": 1672840535, \"metric\": null, \"status\": \"Completed\", \"run_type\": \"azureml.scriptrun\", \"training_percent\": \"100\", \"start_time\": \"2023-01-04T13:55:41.871676Z\", \"end_time\": \"2023-01-04T13:56:34.797738Z\", \"created_time\": \"2023-01-04T13:55:35.332869Z\", \"created_time_dt\": \"2023-01-04T13:55:35.332869Z\", \"duration\": \"0:00:59\", \"iteration\": \"42\", \"goal\": \"accuracy_max\", \"run_name\": \"VotingEnsemble\", \"run_properties\": \"classification_labels=numpy.array([0, 1]\", \"primary_metric\": 0.98823529, \"best_metric\": 0.98823529}], \"children_metrics\": {\"categories\": [0], \"series\": {\"recall_score_micro\": [{\"categories\": [\"0\", \"1\", \"2\", \"8\", \"10\", \"13\", \"14\", \"22\", \"23\", \"25\", \"26\", \"27\", \"28\", \"29\", \"30\", \"31\", \"32\", \"33\", \"34\", \"35\", \"36\", \"37\", \"38\", \"39\", \"40\", \"42\"], \"mode\": \"markers\", \"name\": \"recall_score_micro\", \"stepped\": false, \"type\": \"scatter\", \"data\": [0.9705882352941178, 0.9705882352941178, 0.9764705882352942, 0.9764705882352942, 0.9647058823529413, 0.9764705882352942, 0.9764705882352942, 0.9529411764705882, 0.9764705882352942, 0.9764705882352942, 0.9647058823529413, 0.9647058823529413, 0.9647058823529413, 0.9823529411764707, 0.4470588235294118, 0.9705882352941178, 0.9823529411764707, 0.9588235294117649, 0.9764705882352942, 0.9823529411764707, 0.9823529411764707, 0.9764705882352942, 0.9705882352941178, 0.9529411764705882, 0.9823529411764707, 0.9882352941176471]}, {\"categories\": [\"0\", \"1\", \"2\", \"8\", \"10\", \"13\", \"14\", \"22\", \"23\", \"25\", \"26\", \"27\", \"28\", \"29\", \"30\", \"31\", \"32\", \"33\", \"34\", \"35\", \"36\", \"37\", \"38\", \"39\", \"40\", \"42\"], \"mode\": \"lines\", \"name\": \"recall_score_micro_max\", \"stepped\": true, \"type\": \"scatter\", \"data\": [0.9705882352941178, 0.9705882352941178, 0.9764705882352942, 0.9764705882352942, 0.9764705882352942, 0.9764705882352942, 0.9764705882352942, 0.9764705882352942, 0.9764705882352942, 0.9764705882352942, 0.9764705882352942, 0.9764705882352942, 0.9764705882352942, 0.9823529411764707, 0.9823529411764707, 0.9823529411764707, 0.9823529411764707, 0.9823529411764707, 0.9823529411764707, 0.9823529411764707, 0.9823529411764707, 0.9823529411764707, 0.9823529411764707, 0.9823529411764707, 0.9823529411764707, 0.9882352941176471]}], \"average_precision_score_weighted\": [{\"categories\": [\"0\", \"1\", \"2\", \"8\", \"10\", \"13\", \"14\", \"22\", \"23\", \"25\", \"26\", \"27\", \"28\", \"29\", \"30\", \"31\", \"32\", \"33\", \"34\", \"35\", \"36\", \"37\", \"38\", \"39\", \"40\", \"42\"], \"mode\": \"markers\", \"name\": \"average_precision_score_weighted\", \"stepped\": false, \"type\": \"scatter\", \"data\": [0.9980287114845939, 0.9986904761904762, 0.9993464052287582, 0.9980357178991308, 0.9986904761904762, 1.0, 0.9986904761904762, 0.9980781105011663, 1.0, 1.0, 0.9986904761904762, 0.9980287114845938, 0.9986904761904762, 0.9993382352941177, 0.5072664359861592, 0.9986904761904762, 0.9986904761904762, 0.9949609389679506, 1.0, 1.0, 0.9987079868066937, 0.9986904761904762, 0.9986904761904762, 0.9973947194977063, 1.0, 1.0]}, {\"categories\": [\"0\", \"1\", \"2\", \"8\", \"10\", \"13\", \"14\", \"22\", \"23\", \"25\", \"26\", \"27\", \"28\", \"29\", \"30\", \"31\", \"32\", \"33\", \"34\", \"35\", \"36\", \"37\", \"38\", \"39\", \"40\", \"42\"], \"mode\": \"lines\", \"name\": \"average_precision_score_weighted_max\", \"stepped\": true, \"type\": \"scatter\", \"data\": [0.9980287114845939, 0.9986904761904762, 0.9993464052287582, 0.9993464052287582, 0.9993464052287582, 1.0, 1.0, 1.0, 1.0, 1.0, 1.0, 1.0, 1.0, 1.0, 1.0, 1.0, 1.0, 1.0, 1.0, 1.0, 1.0, 1.0, 1.0, 1.0, 1.0, 1.0]}], \"log_loss\": [{\"categories\": [\"0\", \"1\", \"2\", \"8\", \"10\", \"13\", \"14\", \"22\", \"23\", \"25\", \"26\", \"27\", \"28\", \"29\", \"30\", \"31\", \"32\", \"33\", \"34\", \"35\", \"36\", \"37\", \"38\", \"39\", \"40\", \"42\"], \"mode\": \"markers\", \"name\": \"log_loss\", \"stepped\": false, \"type\": \"scatter\", \"data\": [0.10354515873281381, 0.07684791460526628, 0.09115030959673029, 0.0736534367727219, 0.14544155053506588, 0.043561421895633945, 0.139010778478672, 0.17152413369322533, 0.08302535470524788, 0.08999917094690905, 0.15633866310954028, 0.10425947811361835, 0.14196172855114014, 0.41599772602219787, 0.6978431884184322, 0.10848090481877537, 0.17370904723553293, 0.45871520746086825, 0.12126294836389087, 0.40098302329258323, 0.14413672417061554, 0.15335409478716241, 0.06634982109876897, 0.6744516802560867, 0.06874267688725687, 0.16977609555032508]}, {\"categories\": [\"0\", \"1\", \"2\", \"8\", \"10\", \"13\", \"14\", \"22\", \"23\", \"25\", \"26\", \"27\", \"28\", \"29\", \"30\", \"31\", \"32\", \"33\", \"34\", \"35\", \"36\", \"37\", \"38\", \"39\", \"40\", \"42\"], \"mode\": \"lines\", \"name\": \"log_loss_min\", \"stepped\": true, \"type\": \"scatter\", \"data\": [0.10354515873281381, 0.07684791460526628, 0.07684791460526628, 0.0736534367727219, 0.0736534367727219, 0.043561421895633945, 0.043561421895633945, 0.043561421895633945, 0.043561421895633945, 0.043561421895633945, 0.043561421895633945, 0.043561421895633945, 0.043561421895633945, 0.043561421895633945, 0.043561421895633945, 0.043561421895633945, 0.043561421895633945, 0.043561421895633945, 0.043561421895633945, 0.043561421895633945, 0.043561421895633945, 0.043561421895633945, 0.043561421895633945, 0.043561421895633945, 0.043561421895633945, 0.043561421895633945]}], \"precision_score_macro\": [{\"categories\": [\"0\", \"1\", \"2\", \"8\", \"10\", \"13\", \"14\", \"22\", \"23\", \"25\", \"26\", \"27\", \"28\", \"29\", \"30\", \"31\", \"32\", \"33\", \"34\", \"35\", \"36\", \"37\", \"38\", \"39\", \"40\", \"42\"], \"mode\": \"markers\", \"name\": \"precision_score_macro\", \"stepped\": false, \"type\": \"scatter\", \"data\": [0.9710808270676692, 0.9708771929824561, 0.9784617794486217, 0.9784617794486217, 0.9646271929824561, 0.9784617794486217, 0.9758479532163744, 0.9542105263157896, 0.9784617794486217, 0.9784617794486217, 0.9646271929824561, 0.9646271929824561, 0.9646271929824561, 0.9833333333333334, 0.2235294117647059, 0.9708771929824561, 0.9814035087719297, 0.959627192982456, 0.9784617794486217, 0.9844736842105263, 0.9847117794486216, 0.9773308270676692, 0.9710808270676692, 0.9542105263157896, 0.9832236842105264, 0.9894736842105264]}, {\"categories\": [\"0\", \"1\", \"2\", \"8\", \"10\", \"13\", \"14\", \"22\", \"23\", \"25\", \"26\", \"27\", \"28\", \"29\", \"30\", \"31\", \"32\", \"33\", \"34\", \"35\", \"36\", \"37\", \"38\", \"39\", \"40\", \"42\"], \"mode\": \"lines\", \"name\": \"precision_score_macro_max\", \"stepped\": true, \"type\": \"scatter\", \"data\": [0.9710808270676692, 0.9710808270676692, 0.9784617794486217, 0.9784617794486217, 0.9784617794486217, 0.9784617794486217, 0.9784617794486217, 0.9784617794486217, 0.9784617794486217, 0.9784617794486217, 0.9784617794486217, 0.9784617794486217, 0.9784617794486217, 0.9833333333333334, 0.9833333333333334, 0.9833333333333334, 0.9833333333333334, 0.9833333333333334, 0.9833333333333334, 0.9844736842105263, 0.9847117794486216, 0.9847117794486216, 0.9847117794486216, 0.9847117794486216, 0.9847117794486216, 0.9894736842105264]}], \"average_precision_score_macro\": [{\"categories\": [\"0\", \"1\", \"2\", \"8\", \"10\", \"13\", \"14\", \"22\", \"23\", \"25\", \"26\", \"27\", \"28\", \"29\", \"30\", \"31\", \"32\", \"33\", \"34\", \"35\", \"36\", \"37\", \"38\", \"39\", \"40\", \"42\"], \"mode\": \"markers\", \"name\": \"average_precision_score_macro\", \"stepped\": false, \"type\": \"scatter\", \"data\": [0.997939223057644, 0.9986190476190476, 0.9993464052287582, 0.997993701092408, 0.9986190476190476, 1.0, 0.9986190476190476, 0.9979882426654874, 1.0, 1.0, 0.9986190476190476, 0.997939223057644, 0.9986190476190476, 0.9993201754385964, 0.5, 0.9986190476190476, 0.9986190476190476, 0.9948895103965218, 1.0, 1.0, 0.9987079868066939, 0.9986190476190476, 0.9986190476190476, 0.9972945676885713, 1.0, 1.0]}, {\"categories\": [\"0\", \"1\", \"2\", \"8\", \"10\", \"13\", \"14\", \"22\", \"23\", \"25\", \"26\", \"27\", \"28\", \"29\", \"30\", \"31\", \"32\", \"33\", \"34\", \"35\", \"36\", \"37\", \"38\", \"39\", \"40\", \"42\"], \"mode\": \"lines\", \"name\": \"average_precision_score_macro_max\", \"stepped\": true, \"type\": \"scatter\", \"data\": [0.997939223057644, 0.9986190476190476, 0.9993464052287582, 0.9993464052287582, 0.9993464052287582, 1.0, 1.0, 1.0, 1.0, 1.0, 1.0, 1.0, 1.0, 1.0, 1.0, 1.0, 1.0, 1.0, 1.0, 1.0, 1.0, 1.0, 1.0, 1.0, 1.0, 1.0]}], \"f1_score_weighted\": [{\"categories\": [\"0\", \"1\", \"2\", \"8\", \"10\", \"13\", \"14\", \"22\", \"23\", \"25\", \"26\", \"27\", \"28\", \"29\", \"30\", \"31\", \"32\", \"33\", \"34\", \"35\", \"36\", \"37\", \"38\", \"39\", \"40\", \"42\"], \"mode\": \"markers\", \"name\": \"f1_score_weighted\", \"stepped\": false, \"type\": \"scatter\", \"data\": [0.9705627710252948, 0.9706254009119121, 0.9764079275160753, 0.9764079275160753, 0.9647584333751154, 0.9764079275160753, 0.9765435105800219, 0.9530241786048075, 0.9764079275160753, 0.9764079275160753, 0.9647584333751154, 0.9647584333751154, 0.9647584333751154, 0.9823987776928954, 0.27677070828331335, 0.9706254009119121, 0.9824309564674676, 0.9588500753369399, 0.9764079275160753, 0.982286086406269, 0.9822748950528721, 0.9764297385620916, 0.9705627710252948, 0.9530241786048075, 0.9823274769076477, 0.9881944444444445]}, {\"categories\": [\"0\", \"1\", \"2\", \"8\", \"10\", \"13\", \"14\", \"22\", \"23\", \"25\", \"26\", \"27\", \"28\", \"29\", \"30\", \"31\", \"32\", \"33\", \"34\", \"35\", \"36\", \"37\", \"38\", \"39\", \"40\", \"42\"], \"mode\": \"lines\", \"name\": \"f1_score_weighted_max\", \"stepped\": true, \"type\": \"scatter\", \"data\": [0.9705627710252948, 0.9706254009119121, 0.9764079275160753, 0.9764079275160753, 0.9764079275160753, 0.9764079275160753, 0.9765435105800219, 0.9765435105800219, 0.9765435105800219, 0.9765435105800219, 0.9765435105800219, 0.9765435105800219, 0.9765435105800219, 0.9823987776928954, 0.9823987776928954, 0.9823987776928954, 0.9824309564674676, 0.9824309564674676, 0.9824309564674676, 0.9824309564674676, 0.9824309564674676, 0.9824309564674676, 0.9824309564674676, 0.9824309564674676, 0.9824309564674676, 0.9881944444444445]}], \"norm_macro_recall\": [{\"categories\": [\"0\", \"1\", \"2\", \"8\", \"10\", \"13\", \"14\", \"22\", \"23\", \"25\", \"26\", \"27\", \"28\", \"29\", \"30\", \"31\", \"32\", \"33\", \"34\", \"35\", \"36\", \"37\", \"38\", \"39\", \"40\", \"42\"], \"mode\": \"markers\", \"name\": \"norm_macro_recall\", \"stepped\": false, \"type\": \"scatter\", \"data\": [0.9416585581601062, 0.9421848739495798, 0.9516585581601061, 0.9516585581601061, 0.931658558160106, 0.9516585581601061, 0.953949579831933, 0.9106059265811588, 0.9516585581601061, 0.9516585581601061, 0.931658558160106, 0.931658558160106, 0.931658558160106, 0.968421052631579, 0.0, 0.9421848739495798, 0.9657142857142859, 0.9183252248267728, 0.9516585581601061, 0.9631372549019609, 0.9621848739495797, 0.9521848739495798, 0.9416585581601062, 0.9106059265811588, 0.9659442724458204, 0.9764705882352942]}, {\"categories\": [\"0\", \"1\", \"2\", \"8\", \"10\", \"13\", \"14\", \"22\", \"23\", \"25\", \"26\", \"27\", \"28\", \"29\", \"30\", \"31\", \"32\", \"33\", \"34\", \"35\", \"36\", \"37\", \"38\", \"39\", \"40\", \"42\"], \"mode\": \"lines\", \"name\": \"norm_macro_recall_max\", \"stepped\": true, \"type\": \"scatter\", \"data\": [0.9416585581601062, 0.9421848739495798, 0.9516585581601061, 0.9516585581601061, 0.9516585581601061, 0.9516585581601061, 0.953949579831933, 0.953949579831933, 0.953949579831933, 0.953949579831933, 0.953949579831933, 0.953949579831933, 0.953949579831933, 0.968421052631579, 0.968421052631579, 0.968421052631579, 0.968421052631579, 0.968421052631579, 0.968421052631579, 0.968421052631579, 0.968421052631579, 0.968421052631579, 0.968421052631579, 0.968421052631579, 0.968421052631579, 0.9764705882352942]}], \"precision_score_micro\": [{\"categories\": [\"0\", \"1\", \"2\", \"8\", \"10\", \"13\", \"14\", \"22\", \"23\", \"25\", \"26\", \"27\", \"28\", \"29\", \"30\", \"31\", \"32\", \"33\", \"34\", \"35\", \"36\", \"37\", \"38\", \"39\", \"40\", \"42\"], \"mode\": \"markers\", \"name\": \"precision_score_micro\", \"stepped\": false, \"type\": \"scatter\", \"data\": [0.9705882352941178, 0.9705882352941178, 0.9764705882352942, 0.9764705882352942, 0.9647058823529413, 0.9764705882352942, 0.9764705882352942, 0.9529411764705882, 0.9764705882352942, 0.9764705882352942, 0.9647058823529413, 0.9647058823529413, 0.9647058823529413, 0.9823529411764707, 0.4470588235294118, 0.9705882352941178, 0.9823529411764707, 0.9588235294117649, 0.9764705882352942, 0.9823529411764707, 0.9823529411764707, 0.9764705882352942, 0.9705882352941178, 0.9529411764705882, 0.9823529411764707, 0.9882352941176471]}, {\"categories\": [\"0\", \"1\", \"2\", \"8\", \"10\", \"13\", \"14\", \"22\", \"23\", \"25\", \"26\", \"27\", \"28\", \"29\", \"30\", \"31\", \"32\", \"33\", \"34\", \"35\", \"36\", \"37\", \"38\", \"39\", \"40\", \"42\"], \"mode\": \"lines\", \"name\": \"precision_score_micro_max\", \"stepped\": true, \"type\": \"scatter\", \"data\": [0.9705882352941178, 0.9705882352941178, 0.9764705882352942, 0.9764705882352942, 0.9764705882352942, 0.9764705882352942, 0.9764705882352942, 0.9764705882352942, 0.9764705882352942, 0.9764705882352942, 0.9764705882352942, 0.9764705882352942, 0.9764705882352942, 0.9823529411764707, 0.9823529411764707, 0.9823529411764707, 0.9823529411764707, 0.9823529411764707, 0.9823529411764707, 0.9823529411764707, 0.9823529411764707, 0.9823529411764707, 0.9823529411764707, 0.9823529411764707, 0.9823529411764707, 0.9882352941176471]}], \"balanced_accuracy\": [{\"categories\": [\"0\", \"1\", \"2\", \"8\", \"10\", \"13\", \"14\", \"22\", \"23\", \"25\", \"26\", \"27\", \"28\", \"29\", \"30\", \"31\", \"32\", \"33\", \"34\", \"35\", \"36\", \"37\", \"38\", \"39\", \"40\", \"42\"], \"mode\": \"markers\", \"name\": \"balanced_accuracy\", \"stepped\": false, \"type\": \"scatter\", \"data\": [0.9708292790800531, 0.97109243697479, 0.9758292790800531, 0.9758292790800531, 0.9658292790800532, 0.9758292790800531, 0.9769747899159664, 0.9553029632905794, 0.9758292790800531, 0.9758292790800531, 0.9658292790800532, 0.9658292790800532, 0.9658292790800532, 0.9842105263157894, 0.5, 0.97109243697479, 0.9828571428571429, 0.9591626124133865, 0.9758292790800531, 0.9815686274509805, 0.98109243697479, 0.9760924369747899, 0.9708292790800531, 0.9553029632905794, 0.9829721362229102, 0.9882352941176471]}, {\"categories\": [\"0\", \"1\", \"2\", \"8\", \"10\", \"13\", \"14\", \"22\", \"23\", \"25\", \"26\", \"27\", \"28\", \"29\", \"30\", \"31\", \"32\", \"33\", \"34\", \"35\", \"36\", \"37\", \"38\", \"39\", \"40\", \"42\"], \"mode\": \"lines\", \"name\": \"balanced_accuracy_max\", \"stepped\": true, \"type\": \"scatter\", \"data\": [0.9708292790800531, 0.97109243697479, 0.9758292790800531, 0.9758292790800531, 0.9758292790800531, 0.9758292790800531, 0.9769747899159664, 0.9769747899159664, 0.9769747899159664, 0.9769747899159664, 0.9769747899159664, 0.9769747899159664, 0.9769747899159664, 0.9842105263157894, 0.9842105263157894, 0.9842105263157894, 0.9842105263157894, 0.9842105263157894, 0.9842105263157894, 0.9842105263157894, 0.9842105263157894, 0.9842105263157894, 0.9842105263157894, 0.9842105263157894, 0.9842105263157894, 0.9882352941176471]}], \"AUC_macro\": [{\"categories\": [\"0\", \"1\", \"2\", \"8\", \"10\", \"13\", \"14\", \"22\", \"23\", \"25\", \"26\", \"27\", \"28\", \"29\", \"30\", \"31\", \"32\", \"33\", \"34\", \"35\", \"36\", \"37\", \"38\", \"39\", \"40\", \"42\"], \"mode\": \"markers\", \"name\": \"AUC_macro\", \"stepped\": false, \"type\": \"scatter\", \"data\": [0.9978696741854638, 0.9985714285714286, 0.9993079584775086, 0.9979016312407316, 0.9985714285714286, 1.0, 0.9985714285714286, 0.9978571428571428, 1.0, 1.0, 0.9985714285714286, 0.9978696741854638, 0.9985714285714286, 0.999298245614035, 0.5, 0.9985714285714286, 0.9985714285714286, 0.9951112209589719, 1.0, 1.0, 0.9986159169550174, 0.9985714285714286, 0.9985714285714286, 0.9971679197994987, 1.0, 1.0]}, {\"categories\": [\"0\", \"1\", \"2\", \"8\", \"10\", \"13\", \"14\", \"22\", \"23\", \"25\", \"26\", \"27\", \"28\", \"29\", \"30\", \"31\", \"32\", \"33\", \"34\", \"35\", \"36\", \"37\", \"38\", \"39\", \"40\", \"42\"], \"mode\": \"lines\", \"name\": \"AUC_macro_max\", \"stepped\": true, \"type\": \"scatter\", \"data\": [0.9978696741854638, 0.9985714285714286, 0.9993079584775086, 0.9993079584775086, 0.9993079584775086, 1.0, 1.0, 1.0, 1.0, 1.0, 1.0, 1.0, 1.0, 1.0, 1.0, 1.0, 1.0, 1.0, 1.0, 1.0, 1.0, 1.0, 1.0, 1.0, 1.0, 1.0]}], \"recall_score_macro\": [{\"categories\": [\"0\", \"1\", \"2\", \"8\", \"10\", \"13\", \"14\", \"22\", \"23\", \"25\", \"26\", \"27\", \"28\", \"29\", \"30\", \"31\", \"32\", \"33\", \"34\", \"35\", \"36\", \"37\", \"38\", \"39\", \"40\", \"42\"], \"mode\": \"markers\", \"name\": \"recall_score_macro\", \"stepped\": false, \"type\": \"scatter\", \"data\": [0.9708292790800531, 0.97109243697479, 0.9758292790800531, 0.9758292790800531, 0.9658292790800532, 0.9758292790800531, 0.9769747899159664, 0.9553029632905794, 0.9758292790800531, 0.9758292790800531, 0.9658292790800532, 0.9658292790800532, 0.9658292790800532, 0.9842105263157894, 0.5, 0.97109243697479, 0.9828571428571429, 0.9591626124133865, 0.9758292790800531, 0.9815686274509805, 0.98109243697479, 0.9760924369747899, 0.9708292790800531, 0.9553029632905794, 0.9829721362229102, 0.9882352941176471]}, {\"categories\": [\"0\", \"1\", \"2\", \"8\", \"10\", \"13\", \"14\", \"22\", \"23\", \"25\", \"26\", \"27\", \"28\", \"29\", \"30\", \"31\", \"32\", \"33\", \"34\", \"35\", \"36\", \"37\", \"38\", \"39\", \"40\", \"42\"], \"mode\": \"lines\", \"name\": \"recall_score_macro_max\", \"stepped\": true, \"type\": \"scatter\", \"data\": [0.9708292790800531, 0.97109243697479, 0.9758292790800531, 0.9758292790800531, 0.9758292790800531, 0.9758292790800531, 0.9769747899159664, 0.9769747899159664, 0.9769747899159664, 0.9769747899159664, 0.9769747899159664, 0.9769747899159664, 0.9769747899159664, 0.9842105263157894, 0.9842105263157894, 0.9842105263157894, 0.9842105263157894, 0.9842105263157894, 0.9842105263157894, 0.9842105263157894, 0.9842105263157894, 0.9842105263157894, 0.9842105263157894, 0.9842105263157894, 0.9842105263157894, 0.9882352941176471]}], \"matthews_correlation\": [{\"categories\": [\"0\", \"1\", \"2\", \"8\", \"10\", \"13\", \"14\", \"22\", \"23\", \"25\", \"26\", \"27\", \"28\", \"29\", \"30\", \"31\", \"32\", \"33\", \"34\", \"35\", \"36\", \"37\", \"38\", \"39\", \"40\", \"42\"], \"mode\": \"markers\", \"name\": \"matthews_correlation\", \"stepped\": false, \"type\": \"scatter\", \"data\": [0.9419032077732764, 0.9419588828216388, 0.9542690902316716, 0.9542690902316716, 0.9304431415529016, 0.9542690902316716, 0.9528160278103236, 0.9095004461383169, 0.9542690902316716, 0.9542690902316716, 0.9304431415529016, 0.9304431415529016, 0.9304431415529016, 0.9675415633166782, 0.0, 0.9419588828216388, 0.9642542194939111, 0.9187691001105754, 0.9542690902316716, 0.9660306218854015, 0.9657848315004086, 0.9534189490420134, 0.9419032077732764, 0.9095004461383169, 0.9661889220589905, 0.9777046633277277]}, {\"categories\": [\"0\", \"1\", \"2\", \"8\", \"10\", \"13\", \"14\", \"22\", \"23\", \"25\", \"26\", \"27\", \"28\", \"29\", \"30\", \"31\", \"32\", \"33\", \"34\", \"35\", \"36\", \"37\", \"38\", \"39\", \"40\", \"42\"], \"mode\": \"lines\", \"name\": \"matthews_correlation_max\", \"stepped\": true, \"type\": \"scatter\", \"data\": [0.9419032077732764, 0.9419588828216388, 0.9542690902316716, 0.9542690902316716, 0.9542690902316716, 0.9542690902316716, 0.9542690902316716, 0.9542690902316716, 0.9542690902316716, 0.9542690902316716, 0.9542690902316716, 0.9542690902316716, 0.9542690902316716, 0.9675415633166782, 0.9675415633166782, 0.9675415633166782, 0.9675415633166782, 0.9675415633166782, 0.9675415633166782, 0.9675415633166782, 0.9675415633166782, 0.9675415633166782, 0.9675415633166782, 0.9675415633166782, 0.9675415633166782, 0.9777046633277277]}], \"recall_score_weighted\": [{\"categories\": [\"0\", \"1\", \"2\", \"8\", \"10\", \"13\", \"14\", \"22\", \"23\", \"25\", \"26\", \"27\", \"28\", \"29\", \"30\", \"31\", \"32\", \"33\", \"34\", \"35\", \"36\", \"37\", \"38\", \"39\", \"40\", \"42\"], \"mode\": \"markers\", \"name\": \"recall_score_weighted\", \"stepped\": false, \"type\": \"scatter\", \"data\": [0.9705882352941178, 0.9705882352941178, 0.9764705882352942, 0.9764705882352942, 0.9647058823529413, 0.9764705882352942, 0.9764705882352942, 0.9529411764705882, 0.9764705882352942, 0.9764705882352942, 0.9647058823529413, 0.9647058823529413, 0.9647058823529413, 0.9823529411764707, 0.4470588235294118, 0.9705882352941178, 0.9823529411764707, 0.9588235294117649, 0.9764705882352942, 0.9823529411764707, 0.9823529411764707, 0.9764705882352942, 0.9705882352941178, 0.9529411764705882, 0.9823529411764707, 0.9882352941176471]}, {\"categories\": [\"0\", \"1\", \"2\", \"8\", \"10\", \"13\", \"14\", \"22\", \"23\", \"25\", \"26\", \"27\", \"28\", \"29\", \"30\", \"31\", \"32\", \"33\", \"34\", \"35\", \"36\", \"37\", \"38\", \"39\", \"40\", \"42\"], \"mode\": \"lines\", \"name\": \"recall_score_weighted_max\", \"stepped\": true, \"type\": \"scatter\", \"data\": [0.9705882352941178, 0.9705882352941178, 0.9764705882352942, 0.9764705882352942, 0.9764705882352942, 0.9764705882352942, 0.9764705882352942, 0.9764705882352942, 0.9764705882352942, 0.9764705882352942, 0.9764705882352942, 0.9764705882352942, 0.9764705882352942, 0.9823529411764707, 0.9823529411764707, 0.9823529411764707, 0.9823529411764707, 0.9823529411764707, 0.9823529411764707, 0.9823529411764707, 0.9823529411764707, 0.9823529411764707, 0.9823529411764707, 0.9823529411764707, 0.9823529411764707, 0.9882352941176471]}], \"f1_score_macro\": [{\"categories\": [\"0\", \"1\", \"2\", \"8\", \"10\", \"13\", \"14\", \"22\", \"23\", \"25\", \"26\", \"27\", \"28\", \"29\", \"30\", \"31\", \"32\", \"33\", \"34\", \"35\", \"36\", \"37\", \"38\", \"39\", \"40\", \"42\"], \"mode\": \"markers\", \"name\": \"f1_score_macro\", \"stepped\": false, \"type\": \"scatter\", \"data\": [0.9701230781472716, 0.9701573091659299, 0.9761232071961812, 0.9761232071961812, 0.9642288000116143, 0.9761232071961812, 0.9760754188340396, 0.9524949715035922, 0.9761232071961812, 0.9761232071961812, 0.9642288000116143, 0.9642288000116143, 0.9642288000116143, 0.9823376623376623, 0.30867346938775514, 0.9701573091659299, 0.9819628647214854, 0.9582164215854428, 0.9761232071961812, 0.9821820660182731, 0.9820517163504968, 0.9760515873015873, 0.9701230781472716, 0.9524949715035922, 0.9822659352901288, 0.9881944444444445]}, {\"categories\": [\"0\", \"1\", \"2\", \"8\", \"10\", \"13\", \"14\", \"22\", \"23\", \"25\", \"26\", \"27\", \"28\", \"29\", \"30\", \"31\", \"32\", \"33\", \"34\", \"35\", \"36\", \"37\", \"38\", \"39\", \"40\", \"42\"], \"mode\": \"lines\", \"name\": \"f1_score_macro_max\", \"stepped\": true, \"type\": \"scatter\", \"data\": [0.9701230781472716, 0.9701573091659299, 0.9761232071961812, 0.9761232071961812, 0.9761232071961812, 0.9761232071961812, 0.9761232071961812, 0.9761232071961812, 0.9761232071961812, 0.9761232071961812, 0.9761232071961812, 0.9761232071961812, 0.9761232071961812, 0.9823376623376623, 0.9823376623376623, 0.9823376623376623, 0.9823376623376623, 0.9823376623376623, 0.9823376623376623, 0.9823376623376623, 0.9823376623376623, 0.9823376623376623, 0.9823376623376623, 0.9823376623376623, 0.9823376623376623, 0.9881944444444445]}], \"weighted_accuracy\": [{\"categories\": [\"0\", \"1\", \"2\", \"8\", \"10\", \"13\", \"14\", \"22\", \"23\", \"25\", \"26\", \"27\", \"28\", \"29\", \"30\", \"31\", \"32\", \"33\", \"34\", \"35\", \"36\", \"37\", \"38\", \"39\", \"40\", \"42\"], \"mode\": \"markers\", \"name\": \"weighted_accuracy\", \"stepped\": false, \"type\": \"scatter\", \"data\": [0.9703412565062675, 0.9701144887485196, 0.9770526659022407, 0.9770526659022407, 0.9636298471102943, 0.9770526659022407, 0.975996841689696, 0.9506605638338439, 0.9770526659022407, 0.9770526659022407, 0.9636298471102943, 0.9636298471102943, 0.9636298471102943, 0.9805460750853243, 0.39614723870169727, 0.9701144887485196, 0.9818791946308725, 0.9585103931853796, 0.9770526659022407, 0.9831158401927323, 0.9835373075404659, 0.9768258981444926, 0.9703412565062675, 0.9506605638338439, 0.9817506524794218, 0.9882352941176471]}, {\"categories\": [\"0\", \"1\", \"2\", \"8\", \"10\", \"13\", \"14\", \"22\", \"23\", \"25\", \"26\", \"27\", \"28\", \"29\", \"30\", \"31\", \"32\", \"33\", \"34\", \"35\", \"36\", \"37\", \"38\", \"39\", \"40\", \"42\"], \"mode\": \"lines\", \"name\": \"weighted_accuracy_max\", \"stepped\": true, \"type\": \"scatter\", \"data\": [0.9703412565062675, 0.9703412565062675, 0.9770526659022407, 0.9770526659022407, 0.9770526659022407, 0.9770526659022407, 0.9770526659022407, 0.9770526659022407, 0.9770526659022407, 0.9770526659022407, 0.9770526659022407, 0.9770526659022407, 0.9770526659022407, 0.9805460750853243, 0.9805460750853243, 0.9805460750853243, 0.9818791946308725, 0.9818791946308725, 0.9818791946308725, 0.9831158401927323, 0.9835373075404659, 0.9835373075404659, 0.9835373075404659, 0.9835373075404659, 0.9835373075404659, 0.9882352941176471]}], \"AUC_micro\": [{\"categories\": [\"0\", \"1\", \"2\", \"8\", \"10\", \"13\", \"14\", \"22\", \"23\", \"25\", \"26\", \"27\", \"28\", \"29\", \"30\", \"31\", \"32\", \"33\", \"34\", \"35\", \"36\", \"37\", \"38\", \"39\", \"40\", \"42\"], \"mode\": \"markers\", \"name\": \"AUC_micro\", \"stepped\": false, \"type\": \"scatter\", \"data\": [0.9974048442906573, 0.9977508650519031, 0.9982698961937716, 0.997923875432526, 0.9975778546712804, 0.9989619377162631, 0.9982698961937716, 0.995847750865052, 0.9989619377162631, 0.9989619377162631, 0.9975778546712804, 0.9965397923875432, 0.9975778546712804, 0.9980968858131488, 0.4470588235294118, 0.9977508650519031, 0.9984429065743944, 0.9953287197231834, 0.9989619377162631, 0.9991349480968859, 0.9984429065743944, 0.997923875432526, 0.9980968858131488, 0.9955017301038062, 0.9991349480968859, 0.9993079584775086]}, {\"categories\": [\"0\", \"1\", \"2\", \"8\", \"10\", \"13\", \"14\", \"22\", \"23\", \"25\", \"26\", \"27\", \"28\", \"29\", \"30\", \"31\", \"32\", \"33\", \"34\", \"35\", \"36\", \"37\", \"38\", \"39\", \"40\", \"42\"], \"mode\": \"lines\", \"name\": \"AUC_micro_max\", \"stepped\": true, \"type\": \"scatter\", \"data\": [0.9974048442906573, 0.9977508650519031, 0.9982698961937716, 0.9982698961937716, 0.9982698961937716, 0.9989619377162631, 0.9989619377162631, 0.9989619377162631, 0.9989619377162631, 0.9989619377162631, 0.9989619377162631, 0.9989619377162631, 0.9989619377162631, 0.9989619377162631, 0.9989619377162631, 0.9989619377162631, 0.9989619377162631, 0.9989619377162631, 0.9989619377162631, 0.9991349480968859, 0.9991349480968859, 0.9991349480968859, 0.9991349480968859, 0.9991349480968859, 0.9991349480968859, 0.9993079584775086]}], \"f1_score_micro\": [{\"categories\": [\"0\", \"1\", \"2\", \"8\", \"10\", \"13\", \"14\", \"22\", \"23\", \"25\", \"26\", \"27\", \"28\", \"29\", \"30\", \"31\", \"32\", \"33\", \"34\", \"35\", \"36\", \"37\", \"38\", \"39\", \"40\", \"42\"], \"mode\": \"markers\", \"name\": \"f1_score_micro\", \"stepped\": false, \"type\": \"scatter\", \"data\": [0.9705882352941178, 0.9705882352941178, 0.9764705882352942, 0.9764705882352942, 0.9647058823529413, 0.9764705882352942, 0.9764705882352942, 0.9529411764705881, 0.9764705882352942, 0.9764705882352942, 0.9647058823529413, 0.9647058823529413, 0.9647058823529413, 0.9823529411764707, 0.4470588235294118, 0.9705882352941178, 0.9823529411764707, 0.9588235294117649, 0.9764705882352942, 0.9823529411764707, 0.9823529411764707, 0.9764705882352942, 0.9705882352941178, 0.9529411764705881, 0.9823529411764707, 0.9882352941176471]}, {\"categories\": [\"0\", \"1\", \"2\", \"8\", \"10\", \"13\", \"14\", \"22\", \"23\", \"25\", \"26\", \"27\", \"28\", \"29\", \"30\", \"31\", \"32\", \"33\", \"34\", \"35\", \"36\", \"37\", \"38\", \"39\", \"40\", \"42\"], \"mode\": \"lines\", \"name\": \"f1_score_micro_max\", \"stepped\": true, \"type\": \"scatter\", \"data\": [0.9705882352941178, 0.9705882352941178, 0.9764705882352942, 0.9764705882352942, 0.9764705882352942, 0.9764705882352942, 0.9764705882352942, 0.9764705882352942, 0.9764705882352942, 0.9764705882352942, 0.9764705882352942, 0.9764705882352942, 0.9764705882352942, 0.9823529411764707, 0.9823529411764707, 0.9823529411764707, 0.9823529411764707, 0.9823529411764707, 0.9823529411764707, 0.9823529411764707, 0.9823529411764707, 0.9823529411764707, 0.9823529411764707, 0.9823529411764707, 0.9823529411764707, 0.9882352941176471]}], \"average_precision_score_micro\": [{\"categories\": [\"0\", \"1\", \"2\", \"8\", \"10\", \"13\", \"14\", \"22\", \"23\", \"25\", \"26\", \"27\", \"28\", \"29\", \"30\", \"31\", \"32\", \"33\", \"34\", \"35\", \"36\", \"37\", \"38\", \"39\", \"40\", \"42\"], \"mode\": \"markers\", \"name\": \"average_precision_score_micro\", \"stepped\": false, \"type\": \"scatter\", \"data\": [0.9975175220157919, 0.9978657228657228, 0.9983407898978832, 0.998014718857803, 0.9976976556388321, 0.9990009337068161, 0.9983605874782345, 0.9960683065307677, 0.9990009337068161, 0.9990009337068161, 0.9977069927069927, 0.996711440789819, 0.9976976556388321, 0.998202583665045, 0.4771626297577855, 0.9978657228657228, 0.9985286547051253, 0.9952823100271198, 0.9990009337068161, 0.9991690009337069, 0.9985187683976612, 0.9980239037851495, 0.9981776658247247, 0.9957498898520571, 0.9991690009337069, 0.9993370681605975]}, {\"categories\": [\"0\", \"1\", \"2\", \"8\", \"10\", \"13\", \"14\", \"22\", \"23\", \"25\", \"26\", \"27\", \"28\", \"29\", \"30\", \"31\", \"32\", \"33\", \"34\", \"35\", \"36\", \"37\", \"38\", \"39\", \"40\", \"42\"], \"mode\": \"lines\", \"name\": \"average_precision_score_micro_max\", \"stepped\": true, \"type\": \"scatter\", \"data\": [0.9975175220157919, 0.9978657228657228, 0.9983407898978832, 0.9983407898978832, 0.9983407898978832, 0.9990009337068161, 0.9990009337068161, 0.9990009337068161, 0.9990009337068161, 0.9990009337068161, 0.9990009337068161, 0.9990009337068161, 0.9990009337068161, 0.9990009337068161, 0.9990009337068161, 0.9990009337068161, 0.9990009337068161, 0.9990009337068161, 0.9990009337068161, 0.9991690009337069, 0.9991690009337069, 0.9991690009337069, 0.9991690009337069, 0.9991690009337069, 0.9991690009337069, 0.9993370681605975]}], \"accuracy\": [{\"categories\": [\"0\", \"1\", \"2\", \"8\", \"10\", \"13\", \"14\", \"22\", \"23\", \"25\", \"26\", \"27\", \"28\", \"29\", \"30\", \"31\", \"32\", \"33\", \"34\", \"35\", \"36\", \"37\", \"38\", \"39\", \"40\", \"42\"], \"mode\": \"markers\", \"name\": \"accuracy\", \"stepped\": false, \"type\": \"scatter\", \"data\": [0.9705882352941178, 0.9705882352941178, 0.9764705882352942, 0.9764705882352942, 0.9647058823529413, 0.9764705882352942, 0.9764705882352942, 0.9529411764705882, 0.9764705882352942, 0.9764705882352942, 0.9647058823529413, 0.9647058823529413, 0.9647058823529413, 0.9823529411764707, 0.4470588235294118, 0.9705882352941178, 0.9823529411764707, 0.9588235294117649, 0.9764705882352942, 0.9823529411764707, 0.9823529411764707, 0.9764705882352942, 0.9705882352941178, 0.9529411764705882, 0.9823529411764707, 0.9882352941176471]}, {\"categories\": [\"0\", \"1\", \"2\", \"8\", \"10\", \"13\", \"14\", \"22\", \"23\", \"25\", \"26\", \"27\", \"28\", \"29\", \"30\", \"31\", \"32\", \"33\", \"34\", \"35\", \"36\", \"37\", \"38\", \"39\", \"40\", \"42\"], \"mode\": \"lines\", \"name\": \"accuracy_max\", \"stepped\": true, \"type\": \"scatter\", \"data\": [0.9705882352941178, 0.9705882352941178, 0.9764705882352942, 0.9764705882352942, 0.9764705882352942, 0.9764705882352942, 0.9764705882352942, 0.9764705882352942, 0.9764705882352942, 0.9764705882352942, 0.9764705882352942, 0.9764705882352942, 0.9764705882352942, 0.9823529411764707, 0.9823529411764707, 0.9823529411764707, 0.9823529411764707, 0.9823529411764707, 0.9823529411764707, 0.9823529411764707, 0.9823529411764707, 0.9823529411764707, 0.9823529411764707, 0.9823529411764707, 0.9823529411764707, 0.9882352941176471]}], \"AUC_weighted\": [{\"categories\": [\"0\", \"1\", \"2\", \"8\", \"10\", \"13\", \"14\", \"22\", \"23\", \"25\", \"26\", \"27\", \"28\", \"29\", \"30\", \"31\", \"32\", \"33\", \"34\", \"35\", \"36\", \"37\", \"38\", \"39\", \"40\", \"42\"], \"mode\": \"markers\", \"name\": \"AUC_weighted\", \"stepped\": false, \"type\": \"scatter\", \"data\": [0.9978696741854638, 0.9985714285714286, 0.9993079584775086, 0.9979016312407316, 0.9985714285714286, 1.0, 0.9985714285714286, 0.9978571428571428, 1.0, 1.0, 0.9985714285714286, 0.9978696741854638, 0.9985714285714286, 0.999298245614035, 0.5, 0.9985714285714286, 0.9985714285714286, 0.9951112209589719, 1.0, 1.0, 0.9986159169550174, 0.9985714285714286, 0.9985714285714286, 0.9971679197994987, 1.0, 1.0]}, {\"categories\": [\"0\", \"1\", \"2\", \"8\", \"10\", \"13\", \"14\", \"22\", \"23\", \"25\", \"26\", \"27\", \"28\", \"29\", \"30\", \"31\", \"32\", \"33\", \"34\", \"35\", \"36\", \"37\", \"38\", \"39\", \"40\", \"42\"], \"mode\": \"lines\", \"name\": \"AUC_weighted_max\", \"stepped\": true, \"type\": \"scatter\", \"data\": [0.9978696741854638, 0.9985714285714286, 0.9993079584775086, 0.9993079584775086, 0.9993079584775086, 1.0, 1.0, 1.0, 1.0, 1.0, 1.0, 1.0, 1.0, 1.0, 1.0, 1.0, 1.0, 1.0, 1.0, 1.0, 1.0, 1.0, 1.0, 1.0, 1.0, 1.0]}], \"precision_score_weighted\": [{\"categories\": [\"0\", \"1\", \"2\", \"8\", \"10\", \"13\", \"14\", \"22\", \"23\", \"25\", \"26\", \"27\", \"28\", \"29\", \"30\", \"31\", \"32\", \"33\", \"34\", \"35\", \"36\", \"37\", \"38\", \"39\", \"40\", \"42\"], \"mode\": \"markers\", \"name\": \"precision_score_weighted\", \"stepped\": false, \"type\": \"scatter\", \"data\": [0.9721942724458204, 0.9723013415892673, 0.978356737431815, 0.978356737431815, 0.9667866357069144, 0.978356737431815, 0.9772721018231854, 0.9575954592363262, 0.978356737431815, 0.978356737431815, 0.9667866357069144, 0.9667866357069144, 0.9667866357069144, 0.9852941176470589, 0.20069204152249132, 0.9723013415892673, 0.9828276573787409, 0.9611984004127967, 0.978356737431815, 0.9838854489164085, 0.9838714433141679, 0.9777089783281733, 0.9721942724458204, 0.9575954592363262, 0.9839589783281735, 0.9894736842105264]}, {\"categories\": [\"0\", \"1\", \"2\", \"8\", \"10\", \"13\", \"14\", \"22\", \"23\", \"25\", \"26\", \"27\", \"28\", \"29\", \"30\", \"31\", \"32\", \"33\", \"34\", \"35\", \"36\", \"37\", \"38\", \"39\", \"40\", \"42\"], \"mode\": \"lines\", \"name\": \"precision_score_weighted_max\", \"stepped\": true, \"type\": \"scatter\", \"data\": [0.9721942724458204, 0.9723013415892673, 0.978356737431815, 0.978356737431815, 0.978356737431815, 0.978356737431815, 0.978356737431815, 0.978356737431815, 0.978356737431815, 0.978356737431815, 0.978356737431815, 0.978356737431815, 0.978356737431815, 0.9852941176470589, 0.9852941176470589, 0.9852941176470589, 0.9852941176470589, 0.9852941176470589, 0.9852941176470589, 0.9852941176470589, 0.9852941176470589, 0.9852941176470589, 0.9852941176470589, 0.9852941176470589, 0.9852941176470589, 0.9894736842105264]}]}, \"metricName\": null, \"primaryMetricName\": \"accuracy\", \"showLegend\": false}, \"run_metrics\": [{\"name\": \"experiment_status\", \"run_id\": \"AutoML_3c3d0d78-f1e8-490e-a8d9-3d58f1b64473\", \"categories\": [0, 1, 2, 3, 4, 5, 6, 7, 8, 9, 10, 11, 12, 13], \"series\": [{\"data\": [\"DatasetEvaluation\", \"FeaturesGeneration\", \"DatasetFeaturization\", \"DatasetFeaturizationCompleted\", \"DatasetCrossValidationSplit\", \"ModelSelection\", \"BestRunExplainModel\", \"ModelExplanationDataSetSetup\", \"PickSurrogateModel\", \"EngineeredFeatureExplanations\", \"EngineeredFeatureExplanations\", \"RawFeaturesExplanations\", \"RawFeaturesExplanations\", \"BestRunExplainModel\"]}]}, {\"name\": \"experiment_status_description\", \"run_id\": \"AutoML_3c3d0d78-f1e8-490e-a8d9-3d58f1b64473\", \"categories\": [0, 1, 2, 3, 4, 5, 6, 7, 8, 9, 10, 11, 12, 13], \"series\": [{\"data\": [\"Gathering dataset statistics.\", \"Generating features for the dataset.\", \"Beginning to fit featurizers and featurize the dataset.\", \"Completed fit featurizers and featurizing the dataset.\", \"Generating individually featurized CV splits.\", \"Beginning model selection.\", \"Best run model explanations started\", \"Model explanations data setup completed\", \"Choosing LightGBM as the surrogate model for explanations\", \"Computation of engineered features started\", \"Computation of engineered features completed\", \"Computation of raw features started\", \"Computation of raw features completed\", \"Best run model explanations completed\"]}]}, {\"name\": \"balanced_accuracy\", \"run_id\": \"AutoML_3c3d0d78-f1e8-490e-a8d9-3d58f1b64473\", \"categories\": [0], \"series\": [{\"data\": [0.9933333333333334]}]}, {\"name\": \"average_precision_score_micro\", \"run_id\": \"AutoML_3c3d0d78-f1e8-490e-a8d9-3d58f1b64473\", \"categories\": [0], \"series\": [{\"data\": [0.9998319327731092]}]}, {\"name\": \"log_loss\", \"run_id\": \"AutoML_3c3d0d78-f1e8-490e-a8d9-3d58f1b64473\", \"categories\": [0], \"series\": [{\"data\": [0.11853129536805959]}]}, {\"name\": \"matthews_correlation\", \"run_id\": \"AutoML_3c3d0d78-f1e8-490e-a8d9-3d58f1b64473\", \"categories\": [0], \"series\": [{\"data\": [0.9883259585576738]}]}, {\"name\": \"recall_score_weighted\", \"run_id\": \"AutoML_3c3d0d78-f1e8-490e-a8d9-3d58f1b64473\", \"categories\": [0], \"series\": [{\"data\": [0.9941176470588236]}]}, {\"name\": \"recall_score_macro\", \"run_id\": \"AutoML_3c3d0d78-f1e8-490e-a8d9-3d58f1b64473\", \"categories\": [0], \"series\": [{\"data\": [0.9933333333333334]}]}, {\"name\": \"AUC_weighted\", \"run_id\": \"AutoML_3c3d0d78-f1e8-490e-a8d9-3d58f1b64473\", \"categories\": [0], \"series\": [{\"data\": [1.0]}]}, {\"name\": \"weighted_accuracy\", \"run_id\": \"AutoML_3c3d0d78-f1e8-490e-a8d9-3d58f1b64473\", \"categories\": [0], \"series\": [{\"data\": [0.9948805460750852]}]}, {\"name\": \"accuracy\", \"run_id\": \"AutoML_3c3d0d78-f1e8-490e-a8d9-3d58f1b64473\", \"categories\": [0], \"series\": [{\"data\": [0.9941176470588236]}]}, {\"name\": \"average_precision_score_macro\", \"run_id\": \"AutoML_3c3d0d78-f1e8-490e-a8d9-3d58f1b64473\", \"categories\": [0], \"series\": [{\"data\": [1.0]}]}, {\"name\": \"precision_score_macro\", \"run_id\": \"AutoML_3c3d0d78-f1e8-490e-a8d9-3d58f1b64473\", \"categories\": [0], \"series\": [{\"data\": [0.9949999999999999]}]}, {\"name\": \"AUC_micro\", \"run_id\": \"AutoML_3c3d0d78-f1e8-490e-a8d9-3d58f1b64473\", \"categories\": [0], \"series\": [{\"data\": [0.9998269896193772]}]}, {\"name\": \"f1_score_weighted\", \"run_id\": \"AutoML_3c3d0d78-f1e8-490e-a8d9-3d58f1b64473\", \"categories\": [0], \"series\": [{\"data\": [0.9940916419618245]}]}, {\"name\": \"precision_score_micro\", \"run_id\": \"AutoML_3c3d0d78-f1e8-490e-a8d9-3d58f1b64473\", \"categories\": [0], \"series\": [{\"data\": [0.9941176470588236]}]}, {\"name\": \"f1_score_macro\", \"run_id\": \"AutoML_3c3d0d78-f1e8-490e-a8d9-3d58f1b64473\", \"categories\": [0], \"series\": [{\"data\": [0.9939876215738284]}]}, {\"name\": \"recall_score_micro\", \"run_id\": \"AutoML_3c3d0d78-f1e8-490e-a8d9-3d58f1b64473\", \"categories\": [0], \"series\": [{\"data\": [0.9941176470588236]}]}, {\"name\": \"norm_macro_recall\", \"run_id\": \"AutoML_3c3d0d78-f1e8-490e-a8d9-3d58f1b64473\", \"categories\": [0], \"series\": [{\"data\": [0.9866666666666667]}]}, {\"name\": \"f1_score_micro\", \"run_id\": \"AutoML_3c3d0d78-f1e8-490e-a8d9-3d58f1b64473\", \"categories\": [0], \"series\": [{\"data\": [0.9941176470588236]}]}, {\"name\": \"average_precision_score_weighted\", \"run_id\": \"AutoML_3c3d0d78-f1e8-490e-a8d9-3d58f1b64473\", \"categories\": [0], \"series\": [{\"data\": [1.0]}]}, {\"name\": \"AUC_macro\", \"run_id\": \"AutoML_3c3d0d78-f1e8-490e-a8d9-3d58f1b64473\", \"categories\": [0], \"series\": [{\"data\": [1.0]}]}, {\"name\": \"precision_score_weighted\", \"run_id\": \"AutoML_3c3d0d78-f1e8-490e-a8d9-3d58f1b64473\", \"categories\": [0], \"series\": [{\"data\": [0.9944117647058823]}]}], \"run_logs\": \"\\nRun is completed.\", \"graph\": {}, \"widget_settings\": {\"childWidgetDisplay\": \"popup\", \"send_telemetry\": false, \"log_level\": \"INFO\", \"sdk_version\": \"1.47.0\"}, \"loading\": false}"
     },
     "metadata": {},
     "output_type": "display_data"
    },
    {
     "data": {
      "text/html": [
       "<table style=\"width:100%\"><tr><th>Experiment</th><th>Id</th><th>Type</th><th>Status</th><th>Details Page</th><th>Docs Page</th></tr><tr><td>CapstoneExp</td><td>AutoML_3c3d0d78-f1e8-490e-a8d9-3d58f1b64473</td><td>automl</td><td>Completed</td><td><a href=\"https://ml.azure.com/runs/AutoML_3c3d0d78-f1e8-490e-a8d9-3d58f1b64473?wsid=/subscriptions/976ee174-3882-4721-b90a-b5fef6b72f24/resourcegroups/aml-quickstarts-221321/workspaces/quick-starts-ws-221321&amp;tid=660b3398-b80e-49d2-bc5b-ac1dc93b5254\" target=\"_blank\" rel=\"noopener\">Link to Azure Machine Learning studio</a></td><td><a href=\"https://docs.microsoft.com/en-us/python/api/overview/azure/ml/intro?view=azure-ml-py\" target=\"_blank\" rel=\"noopener\">Link to Documentation</a></td></tr></table>"
      ],
      "text/plain": [
       "<IPython.core.display.HTML object>"
      ]
     },
     "metadata": {},
     "output_type": "display_data"
    },
    {
     "name": "stdout",
     "output_type": "stream",
     "text": [
      "\n",
      "\n",
      "********************************************************************************************\n",
      "DATA GUARDRAILS: \n",
      "\n",
      "TYPE:         Class balancing detection\n",
      "STATUS:       PASSED\n",
      "DESCRIPTION:  Your inputs were analyzed, and all classes are balanced in your training data.\n",
      "              Learn more about imbalanced data: https://aka.ms/AutomatedMLImbalancedData\n",
      "\n",
      "********************************************************************************************\n",
      "\n",
      "TYPE:         Missing feature values imputation\n",
      "STATUS:       PASSED\n",
      "DESCRIPTION:  No feature missing values were detected in the training data.\n",
      "              Learn more about missing value imputation: https://aka.ms/AutomatedMLFeaturization\n",
      "\n",
      "********************************************************************************************\n",
      "\n",
      "TYPE:         High cardinality feature detection\n",
      "STATUS:       PASSED\n",
      "DESCRIPTION:  Your inputs were analyzed, and no high cardinality features were detected.\n",
      "              Learn more about high cardinality feature handling: https://aka.ms/AutomatedMLFeaturization\n",
      "\n",
      "********************************************************************************************\n",
      "\n",
      "********************************************************************************************\n",
      "ITER: The iteration being evaluated.\n",
      "PIPELINE: A summary description of the pipeline being evaluated.\n",
      "DURATION: Time taken for the current iteration.\n",
      "METRIC: The result of computing score on the fitted pipeline.\n",
      "BEST: The best observed score thus far.\n",
      "********************************************************************************************\n",
      "\n",
      " ITER   PIPELINE                                       DURATION            METRIC      BEST\n",
      "    0   MaxAbsScaler LightGBM                          0:00:09             0.9706    0.9706\n",
      "    1   MaxAbsScaler XGBoostClassifier                 0:00:11             0.9706    0.9706\n",
      "    2   MaxAbsScaler ExtremeRandomTrees                0:00:15             0.9765    0.9765\n",
      "    3   SparseNormalizer XGBoostClassifier             0:00:10             0.9471    0.9765\n",
      "    4   MaxAbsScaler LightGBM                          0:00:10             0.9706    0.9765\n",
      "    5   MaxAbsScaler LightGBM                          0:00:14             0.9647    0.9765\n",
      "    6   StandardScalerWrapper XGBoostClassifier        0:00:09             0.9765    0.9765\n",
      "    7   MaxAbsScaler LogisticRegression                0:00:10             0.9765    0.9765\n",
      "    8   StandardScalerWrapper ExtremeRandomTrees       0:00:10             0.9765    0.9765\n",
      "    9   StandardScalerWrapper XGBoostClassifier        0:00:08             0.9824    0.9824\n",
      "   10   SparseNormalizer LightGBM                      0:00:13             0.9647    0.9824\n",
      "   11   StandardScalerWrapper XGBoostClassifier        0:00:08             0.9765    0.9824\n",
      "   12   MaxAbsScaler LogisticRegression                0:00:08             0.9765    0.9824\n",
      "   13   MaxAbsScaler SGD                               0:00:08             0.9765    0.9824\n",
      "   14   StandardScalerWrapper XGBoostClassifier        0:00:10             0.9765    0.9824\n",
      "   15   SparseNormalizer RandomForest                  0:00:13             0.9765    0.9824\n",
      "   16   StandardScalerWrapper LogisticRegression       0:00:09             0.9765    0.9824\n",
      "   17   StandardScalerWrapper RandomForest             0:00:09             0.9824    0.9824\n",
      "   18   StandardScalerWrapper XGBoostClassifier        0:00:09             0.9706    0.9824\n",
      "   19   TruncatedSVDWrapper RandomForest               0:00:10             0.9647    0.9824\n",
      "   20   TruncatedSVDWrapper RandomForest               0:01:45             0.9412    0.9824\n",
      "   21                                                  0:03:22                nan    0.9824\n",
      "   22   SparseNormalizer XGBoostClassifier             0:00:25             0.9529    0.9824\n",
      "   23   StandardScalerWrapper LogisticRegression       0:00:28             0.9765    0.9824\n",
      "   24   TruncatedSVDWrapper XGBoostClassifier          0:00:27             0.9941    0.9941\n",
      "   25   StandardScalerWrapper RandomForest             0:00:25             0.9765    0.9941\n",
      "   26   SparseNormalizer LightGBM                      0:00:28             0.9647    0.9941\n",
      "   27   MaxAbsScaler ExtremeRandomTrees                0:00:26             0.9647    0.9941\n",
      "   28   MaxAbsScaler LightGBM                          0:00:28             0.9647    0.9941\n",
      "   29   MaxAbsScaler LightGBM                          0:00:27             0.9824    0.9941\n",
      "   30   TruncatedSVDWrapper XGBoostClassifier          0:00:26             0.4471    0.9941\n",
      "   31   SparseNormalizer XGBoostClassifier             0:00:29             0.9706    0.9941\n",
      "   32   SparseNormalizer XGBoostClassifier             0:00:31             0.9824    0.9941\n",
      "   33   SparseNormalizer XGBoostClassifier             0:00:27             0.9588    0.9941\n",
      "   34   StandardScalerWrapper RandomForest             0:00:31             0.9765    0.9941\n",
      "   35   TruncatedSVDWrapper XGBoostClassifier          0:00:29             0.9824    0.9941\n",
      "   36   StandardScalerWrapper RandomForest             0:00:26             0.9824    0.9941\n",
      "   37   MaxAbsScaler LightGBM                          0:00:25             0.9765    0.9941\n",
      "   38   StandardScalerWrapper XGBoostClassifier        0:00:26             0.9706    0.9941\n",
      "   39   SparseNormalizer XGBoostClassifier             0:00:24             0.9529    0.9941\n",
      "   40   TruncatedSVDWrapper XGBoostClassifier          0:00:15             0.9824    0.9941\n",
      "   41   StandardScalerWrapper RandomForest             0:00:13             0.9765    0.9941\n",
      "   42    VotingEnsemble                                0:00:53             0.9882    0.9941\n",
      "   43    StackEnsemble                                 0:00:49             0.9824    0.9941\n"
     ]
    },
    {
     "data": {
      "text/plain": [
       "{'runId': 'AutoML_3c3d0d78-f1e8-490e-a8d9-3d58f1b64473',\n",
       " 'target': 'optCompute',\n",
       " 'status': 'Completed',\n",
       " 'startTimeUtc': '2023-01-04T13:37:38.572288Z',\n",
       " 'endTimeUtc': '2023-01-04T13:56:39.472481Z',\n",
       " 'services': {},\n",
       " 'warnings': [{'source': 'JasmineService',\n",
       "   'message': 'No scores improved over last 10 iterations, so experiment stopped early. This early stopping behavior can be disabled by setting enable_early_stopping = False in AutoMLConfig for notebook/python SDK runs.'}],\n",
       " 'properties': {'num_iterations': '1000',\n",
       "  'training_type': 'TrainFull',\n",
       "  'acquisition_function': 'EI',\n",
       "  'primary_metric': 'accuracy',\n",
       "  'train_split': '0',\n",
       "  'acquisition_parameter': '0',\n",
       "  'num_cross_validation': '5',\n",
       "  'target': 'optCompute',\n",
       "  'AMLSettingsJsonString': '{\"path\":null,\"name\":\"CapstoneExp\",\"subscription_id\":\"976ee174-3882-4721-b90a-b5fef6b72f24\",\"resource_group\":\"aml-quickstarts-221321\",\"workspace_name\":\"quick-starts-ws-221321\",\"region\":\"southcentralus\",\"compute_target\":\"optCompute\",\"spark_service\":null,\"azure_service\":\"remote\",\"many_models\":false,\"pipeline_fetch_max_batch_size\":1,\"enable_batch_run\":true,\"enable_parallel_run\":false,\"num_procs\":null,\"enable_run_restructure\":false,\"start_auxiliary_runs_before_parent_complete\":false,\"enable_code_generation\":true,\"iterations\":1000,\"primary_metric\":\"accuracy\",\"task_type\":\"classification\",\"positive_label\":null,\"data_script\":null,\"test_size\":0.0,\"test_include_predictions_only\":false,\"validation_size\":0.0,\"n_cross_validations\":5,\"y_min\":null,\"y_max\":null,\"num_classes\":null,\"featurization\":\"auto\",\"_ignore_package_version_incompatibilities\":false,\"is_timeseries\":false,\"max_cores_per_iteration\":1,\"max_concurrent_iterations\":5,\"iteration_timeout_minutes\":null,\"mem_in_mb\":null,\"enforce_time_on_windows\":false,\"experiment_timeout_minutes\":20,\"experiment_exit_score\":null,\"partition_column_names\":null,\"whitelist_models\":null,\"blacklist_algos\":[\"TensorFlowLinearClassifier\",\"TensorFlowDNN\"],\"supported_models\":[\"SGD\",\"BernoulliNaiveBayes\",\"XGBoostClassifier\",\"LightGBM\",\"DecisionTree\",\"LinearSVM\",\"TensorFlowLinearClassifier\",\"ExtremeRandomTrees\",\"GradientBoosting\",\"LogisticRegression\",\"RandomForest\",\"TensorFlowDNN\",\"KNN\",\"SVM\",\"AveragedPerceptronClassifier\",\"MultinomialNaiveBayes\",\"TabnetClassifier\"],\"private_models\":[],\"auto_blacklist\":true,\"blacklist_samples_reached\":false,\"exclude_nan_labels\":true,\"verbosity\":20,\"_debug_log\":\"azureml_automl.log\",\"show_warnings\":false,\"model_explainability\":true,\"service_url\":null,\"sdk_url\":null,\"sdk_packages\":null,\"enable_onnx_compatible_models\":false,\"enable_split_onnx_featurizer_estimator_models\":false,\"vm_type\":\"STANDARD_D2_V2\",\"telemetry_verbosity\":20,\"send_telemetry\":true,\"enable_dnn\":false,\"scenario\":\"AutoML\",\"environment_label\":null,\"save_mlflow\":false,\"enable_categorical_indicators\":false,\"force_text_dnn\":false,\"enable_feature_sweeping\":true,\"enable_early_stopping\":true,\"early_stopping_n_iters\":10,\"arguments\":null,\"dataset_id\":\"4ac32ddf-4693-4bb1-adcd-4333832ed9c6\",\"hyperdrive_config\":null,\"validation_dataset_id\":null,\"run_source\":null,\"metrics\":null,\"enable_metric_confidence\":false,\"enable_ensembling\":true,\"enable_stack_ensembling\":true,\"ensemble_iterations\":15,\"enable_tf\":false,\"enable_subsampling\":null,\"subsample_seed\":null,\"enable_nimbusml\":false,\"enable_streaming\":false,\"force_streaming\":false,\"track_child_runs\":true,\"n_best_runs\":1,\"allowed_private_models\":[],\"label_column_name\":\"Class\",\"weight_column_name\":null,\"cv_split_column_names\":null,\"enable_local_managed\":false,\"_local_managed_run_id\":null,\"cost_mode\":1,\"lag_length\":0,\"metric_operation\":\"maximize\",\"preprocess\":true}',\n",
       "  'DataPrepJsonString': '{\\\\\"training_data\\\\\": {\\\\\"datasetId\\\\\": \\\\\"4ac32ddf-4693-4bb1-adcd-4333832ed9c6\\\\\"}, \\\\\"datasets\\\\\": 0}',\n",
       "  'EnableSubsampling': None,\n",
       "  'runTemplate': 'AutoML',\n",
       "  'azureml.runsource': 'automl',\n",
       "  'display_task_type': 'classification',\n",
       "  'dependencies_versions': '{\"azureml-widgets\": \"1.47.0\", \"azureml-training-tabular\": \"1.47.0\", \"azureml-train\": \"1.47.0\", \"azureml-train-restclients-hyperdrive\": \"1.47.0\", \"azureml-train-core\": \"1.47.0\", \"azureml-train-automl\": \"1.47.0\", \"azureml-train-automl-runtime\": \"1.47.0\", \"azureml-train-automl-client\": \"1.47.0\", \"azureml-tensorboard\": \"1.47.0\", \"azureml-telemetry\": \"1.47.0\", \"azureml-sdk\": \"1.47.0\", \"azureml-samples\": \"0+unknown\", \"azureml-responsibleai\": \"1.47.0\", \"azureml-pipeline\": \"1.47.0\", \"azureml-pipeline-steps\": \"1.47.0\", \"azureml-pipeline-core\": \"1.47.0\", \"azureml-opendatasets\": \"1.47.0\", \"azureml-mlflow\": \"1.47.0\", \"azureml-interpret\": \"1.47.0\", \"azureml-inference-server-http\": \"0.7.6\", \"azureml-explain-model\": \"1.47.0\", \"azureml-defaults\": \"1.47.0\", \"azureml-dataset-runtime\": \"1.47.0\", \"azureml-dataprep\": \"4.5.7\", \"azureml-dataprep-rslex\": \"2.11.4\", \"azureml-dataprep-native\": \"38.0.0\", \"azureml-datadrift\": \"1.47.0\", \"azureml-core\": \"1.47.0\", \"azureml-contrib-services\": \"1.47.0\", \"azureml-contrib-server\": \"1.47.0\", \"azureml-contrib-reinforcementlearning\": \"1.47.0\", \"azureml-contrib-pipeline-steps\": \"1.47.0\", \"azureml-contrib-notebook\": \"1.47.0\", \"azureml-contrib-fairness\": \"1.47.0\", \"azureml-contrib-dataset\": \"1.47.0\", \"azureml-contrib-automl-pipeline-steps\": \"1.47.0\", \"azureml-cli-common\": \"1.47.0\", \"azureml-automl-runtime\": \"1.47.0\", \"azureml-automl-dnn-nlp\": \"1.47.0\", \"azureml-automl-core\": \"1.47.0\", \"azureml-accel-models\": \"1.47.0\"}',\n",
       "  '_aml_system_scenario_identification': 'Remote.Parent',\n",
       "  'ClientType': 'SDK',\n",
       "  'environment_cpu_name': 'AzureML-AutoML',\n",
       "  'environment_cpu_label': 'prod',\n",
       "  'environment_gpu_name': 'AzureML-AutoML-GPU',\n",
       "  'environment_gpu_label': 'prod',\n",
       "  'root_attribution': 'automl',\n",
       "  'attribution': 'AutoML',\n",
       "  'Orchestrator': 'AutoML',\n",
       "  'CancelUri': 'https://southcentralus.api.azureml.ms/jasmine/v1.0/subscriptions/976ee174-3882-4721-b90a-b5fef6b72f24/resourceGroups/aml-quickstarts-221321/providers/Microsoft.MachineLearningServices/workspaces/quick-starts-ws-221321/experimentids/30e7fbe9-dae1-4871-acdf-d2a7d22879ed/cancel/AutoML_3c3d0d78-f1e8-490e-a8d9-3d58f1b64473',\n",
       "  'ClientSdkVersion': '1.48.0',\n",
       "  'snapshotId': '00000000-0000-0000-0000-000000000000',\n",
       "  'SetupRunId': 'AutoML_3c3d0d78-f1e8-490e-a8d9-3d58f1b64473_setup',\n",
       "  'SetupRunContainerId': 'dcid.AutoML_3c3d0d78-f1e8-490e-a8d9-3d58f1b64473_setup',\n",
       "  'FeaturizationRunJsonPath': 'featurizer_container.json',\n",
       "  'FeaturizationRunId': 'AutoML_3c3d0d78-f1e8-490e-a8d9-3d58f1b64473_featurize',\n",
       "  'ProblemInfoJsonString': '{\"dataset_num_categorical\": 0, \"is_sparse\": true, \"subsampling\": false, \"has_extra_col\": true, \"dataset_classes\": 2, \"dataset_features\": 270, \"dataset_samples\": 170, \"single_frequency_class_detected\": false}',\n",
       "  'ModelExplainRunId': 'AutoML_3c3d0d78-f1e8-490e-a8d9-3d58f1b64473_ModelExplain'},\n",
       " 'inputDatasets': [{'dataset': {'id': '4ac32ddf-4693-4bb1-adcd-4333832ed9c6'}, 'consumptionDetails': {'type': 'RunInput', 'inputName': 'training_data', 'mechanism': 'Direct'}}],\n",
       " 'outputDatasets': [],\n",
       " 'logFiles': {},\n",
       " 'submittedBy': 'ODL_User 221321'}"
      ]
     },
     "execution_count": 10,
     "metadata": {},
     "output_type": "execute_result"
    }
   ],
   "source": [
    "RunDetails(remote_run).show()\n",
    "remote_run.wait_for_completion(show_output=True)"
   ]
  },
  {
   "cell_type": "markdown",
   "metadata": {},
   "source": [
    "## Best Model\n",
    "\n",
    "TODO: In the cell below, get the best model from the automl experiments and display all the properties of the model.\n",
    "\n"
   ]
  },
  {
   "cell_type": "code",
   "execution_count": 9,
   "metadata": {
    "gather": {
     "logged": 1598431425670
    },
    "jupyter": {
     "outputs_hidden": false,
     "source_hidden": false
    },
    "nteract": {
     "transient": {
      "deleting": false
     }
    }
   },
   "outputs": [
    {
     "name": "stderr",
     "output_type": "stream",
     "text": [
      "WARNING:root:The version of the SDK does not match the version the model was trained on.\n",
      "WARNING:root:The consistency in the result may not be guaranteed.\n",
      "WARNING:root:Package:azureml-automl-core, training version:1.48.0, current version:1.47.0\n",
      "Package:azureml-automl-runtime, training version:1.48.0.post1, current version:1.47.0\n",
      "Package:azureml-core, training version:1.48.0, current version:1.47.0\n",
      "Package:azureml-dataprep, training version:4.8.3, current version:4.5.7\n",
      "Package:azureml-dataprep-rslex, training version:2.15.1, current version:2.11.4\n",
      "Package:azureml-dataset-runtime, training version:1.48.0, current version:1.47.0\n",
      "Package:azureml-defaults, training version:1.48.0, current version:1.47.0\n",
      "Package:azureml-interpret, training version:1.48.0, current version:1.47.0\n",
      "Package:azureml-mlflow, training version:1.48.0, current version:1.47.0\n",
      "Package:azureml-pipeline-core, training version:1.48.0, current version:1.47.0\n",
      "Package:azureml-responsibleai, training version:1.48.0, current version:1.47.0\n",
      "Package:azureml-telemetry, training version:1.48.0, current version:1.47.0\n",
      "Package:azureml-train-automl-client, training version:1.48.0, current version:1.47.0\n",
      "Package:azureml-train-automl-runtime, training version:1.48.0, current version:1.47.0\n",
      "Package:azureml-train-core, training version:1.48.0, current version:1.47.0\n",
      "Package:azureml-train-restclients-hyperdrive, training version:1.48.0, current version:1.47.0\n",
      "Package:azureml-training-tabular, training version:1.48.0, current version:1.47.0\n",
      "WARNING:root:Please ensure the version of your local conda dependencies match the version on which your model was trained in order to properly retrieve your model.\n"
     ]
    },
    {
     "name": "stdout",
     "output_type": "stream",
     "text": [
      "Run(Experiment: CapstoneExp,\n",
      "Id: AutoML_3c3d0d78-f1e8-490e-a8d9-3d58f1b64473_24,\n",
      "Type: azureml.scriptrun,\n",
      "Status: Completed)\n",
      "norm_macro_recall 0.9866666666666667\n",
      "precision_score_weighted 0.9944117647058823\n",
      "average_precision_score_weighted 1.0\n",
      "f1_score_micro 0.9941176470588236\n",
      "recall_score_micro 0.9941176470588236\n",
      "precision_score_micro 0.9941176470588236\n",
      "log_loss 0.11853129536805959\n",
      "average_precision_score_micro 0.9998319327731092\n",
      "recall_score_macro 0.9933333333333334\n",
      "f1_score_weighted 0.9940916419618245\n",
      "AUC_micro 0.9998269896193772\n",
      "weighted_accuracy 0.9948805460750852\n",
      "accuracy 0.9941176470588236\n",
      "average_precision_score_macro 1.0\n",
      "precision_score_macro 0.9949999999999999\n",
      "f1_score_macro 0.9939876215738284\n",
      "balanced_accuracy 0.9933333333333334\n",
      "AUC_weighted 1.0\n",
      "recall_score_weighted 0.9941176470588236\n",
      "AUC_macro 1.0\n",
      "matthews_correlation 0.9883259585576738\n",
      "confusion_matrix aml://artifactId/ExperimentRun/dcid.AutoML_3c3d0d78-f1e8-490e-a8d9-3d58f1b64473_24/confusion_matrix\n",
      "accuracy_table aml://artifactId/ExperimentRun/dcid.AutoML_3c3d0d78-f1e8-490e-a8d9-3d58f1b64473_24/accuracy_table\n"
     ]
    }
   ],
   "source": [
    "# Get best run and model\n",
    "best_run, fitted_model = remote_run.get_output()\n",
    "\n",
    "# Print the best run\n",
    "print(best_run)\n",
    "\n",
    "# Get all metrics of the best run\n",
    "best_run_metrics = best_run.get_metrics()\n",
    "\n",
    "# Print all metrics of the best run\n",
    "for metric_name in best_run_metrics:\n",
    "    metric = best_run_metrics[metric_name]\n",
    "    print(metric_name, metric)"
   ]
  },
  {
   "cell_type": "code",
   "execution_count": 11,
   "metadata": {
    "gather": {
     "logged": 1598431425670
    },
    "jupyter": {
     "outputs_hidden": false,
     "source_hidden": false
    },
    "nteract": {
     "transient": {
      "deleting": false
     }
    }
   },
   "outputs": [
    {
     "name": "stdout",
     "output_type": "stream",
     "text": [
      "datatransformer\n",
      "{'enable_dnn': False,\n",
      " 'enable_feature_sweeping': True,\n",
      " 'feature_sweeping_config': {},\n",
      " 'feature_sweeping_timeout': 86400,\n",
      " 'featurization_config': None,\n",
      " 'force_text_dnn': False,\n",
      " 'is_cross_validation': True,\n",
      " 'is_onnx_compatible': False,\n",
      " 'observer': None,\n",
      " 'task': 'classification',\n",
      " 'working_dir': '/mnt/batch/tasks/shared/LS_root/mounts/clusters/notebook221321/code/Users/odl_user_221321/Capstone-Project-Azml'}\n",
      "\n",
      "TruncatedSVDWrapper\n",
      "{'n_components': 0.05947368421052632, 'random_state': None}\n",
      "\n",
      "XGBoostClassifier\n",
      "{'base_score': 0.5,\n",
      " 'booster': 'gbtree',\n",
      " 'colsample_bylevel': 1,\n",
      " 'colsample_bynode': 1,\n",
      " 'colsample_bytree': 0.7,\n",
      " 'eta': 0.1,\n",
      " 'gamma': 0,\n",
      " 'gpu_id': -1,\n",
      " 'grow_policy': 'lossguide',\n",
      " 'importance_type': 'gain',\n",
      " 'interaction_constraints': '',\n",
      " 'learning_rate': 0.100000001,\n",
      " 'max_bin': 255,\n",
      " 'max_delta_step': 0,\n",
      " 'max_depth': 2,\n",
      " 'max_leaves': 3,\n",
      " 'min_child_weight': 1,\n",
      " 'missing': nan,\n",
      " 'monotone_constraints': '()',\n",
      " 'n_estimators': 25,\n",
      " 'n_jobs': 1,\n",
      " 'num_parallel_tree': 1,\n",
      " 'objective': 'reg:logistic',\n",
      " 'random_state': 0,\n",
      " 'reg_alpha': 1.9791666666666667,\n",
      " 'reg_lambda': 2.3958333333333335,\n",
      " 'scale_pos_weight': 1,\n",
      " 'subsample': 1,\n",
      " 'tree_method': 'hist',\n",
      " 'use_label_encoder': True,\n",
      " 'validate_parameters': 1,\n",
      " 'verbose': -10,\n",
      " 'verbosity': 0}\n",
      "\n"
     ]
    }
   ],
   "source": [
    "# Print detailed parameters of the fitted model\n",
    "def print_model(model, prefix=\"\"):\n",
    "    for step in model.steps:\n",
    "        print(prefix + step[0])\n",
    "        if hasattr(step[1], 'estimators') and hasattr(step[1], 'weights'):\n",
    "            pprint({'estimators': list(\n",
    "                e[0] for e in step[1].estimators), 'weights': step[1].weights})\n",
    "            print()\n",
    "            for estimator in step[1].estimators:\n",
    "                print_model(estimator[1], estimator[0] + ' - ')\n",
    "        else:\n",
    "            pprint(step[1].get_params())\n",
    "            print()\n",
    "\n",
    "print_model(fitted_model)"
   ]
  },
  {
   "cell_type": "code",
   "execution_count": 12,
   "metadata": {
    "gather": {
     "logged": 1598431426111
    },
    "jupyter": {
     "outputs_hidden": false,
     "source_hidden": false
    },
    "nteract": {
     "transient": {
      "deleting": false
     }
    }
   },
   "outputs": [
    {
     "name": "stdout",
     "output_type": "stream",
     "text": [
      "Model(workspace=Workspace.create(name='quick-starts-ws-221321', subscription_id='976ee174-3882-4721-b90a-b5fef6b72f24', resource_group='aml-quickstarts-221321'), name=capstoneModel_automl, id=capstoneModel_automl:1, version=1, tags={'Training context': 'Auto ML'}, properties={'Accuracy': '0.9941176470588236'})\n"
     ]
    }
   ],
   "source": [
    "#TODO: Save the best model\n",
    "myModel = best_run.register_model(model_path='outputs/model.pkl', model_name='capstoneModel_automl',\n",
    "                        tags={'Training context':'Auto ML'},\n",
    "                        properties={'Accuracy': best_run_metrics['accuracy']})\n",
    "\n",
    "print(myModel)"
   ]
  },
  {
   "cell_type": "code",
   "execution_count": 13,
   "metadata": {
    "gather": {
     "logged": 1598431426111
    },
    "jupyter": {
     "outputs_hidden": false,
     "source_hidden": false
    },
    "nteract": {
     "transient": {
      "deleting": false
     }
    }
   },
   "outputs": [
    {
     "name": "stdout",
     "output_type": "stream",
     "text": [
      "capstoneModel_automl version: 1\n",
      "\t Training context : Auto ML\n",
      "\t Accuracy : 0.9941176470588236\n",
      "\n",
      "\n"
     ]
    }
   ],
   "source": [
    "# List registered models to verify if model has been saved\n",
    "for model in Model.list(ws):\n",
    "    print(model.name, 'version:', model.version)\n",
    "    for tag_name in model.tags:\n",
    "        tag = model.tags[tag_name]\n",
    "        print ('\\t',tag_name, ':', tag)\n",
    "    for prop_name in model.properties:\n",
    "        prop = model.properties[prop_name]\n",
    "        print ('\\t',prop_name, ':', prop)\n",
    "    print('\\n')"
   ]
  },
  {
   "cell_type": "markdown",
   "metadata": {},
   "source": [
    "## Model Deployment\n",
    "\n",
    "Remember you have to deploy only one of the two models you trained.. Perform the steps in the rest of this notebook only if you wish to deploy this model.\n",
    "\n",
    "TODO: In the cell below, register the model, create an inference config and deploy the model as a web service."
   ]
  },
  {
   "cell_type": "code",
   "execution_count": 14,
   "metadata": {},
   "outputs": [],
   "source": [
    "# Download scoring file \n",
    "best_run.download_file('outputs/scoring_file_v_1_0_0.py', 'scoreScript.py')\n",
    "\n",
    "# Download environment file\n",
    "best_run.download_file('outputs/conda_env_v_1_0_0.yml', 'envFile.yml')"
   ]
  },
  {
   "cell_type": "code",
   "execution_count": 15,
   "metadata": {
    "gather": {
     "logged": 1598431435189
    },
    "jupyter": {
     "outputs_hidden": false,
     "source_hidden": false
    },
    "nteract": {
     "transient": {
      "deleting": false
     }
    }
   },
   "outputs": [
    {
     "name": "stdout",
     "output_type": "stream",
     "text": [
      "Tips: You can try get_logs(): https://aka.ms/debugimage#dockerlog or local deployment: https://aka.ms/debugimage#debug-locally to debug if deployment takes longer than 10 minutes.\n",
      "Running\n",
      "2023-01-04 14:18:16+00:00 Creating Container Registry if not exists..\n",
      "2023-01-04 14:28:17+00:00 Registering the environment..\n",
      "2023-01-04 14:28:18+00:00 Use the existing image.\n",
      "2023-01-04 14:28:19+00:00 Submitting deployment to compute.\n",
      "2023-01-04 14:28:22+00:00 Checking the status of deployment myservice..\n",
      "2023-01-04 14:32:59+00:00 Checking the status of inference endpoint myservice.\n",
      "Succeeded\n",
      "ACI service creation operation finished, operation \"Succeeded\"\n",
      "Healthy\n",
      "http://497e95c1-eb61-4291-bd39-8e9d91147d8f.southcentralus.azurecontainer.io/score\n",
      "http://497e95c1-eb61-4291-bd39-8e9d91147d8f.southcentralus.azurecontainer.io/swagger.json\n"
     ]
    }
   ],
   "source": [
    "from azureml.core.environment import Environment\n",
    "from azureml.core.model import InferenceConfig\n",
    "\n",
    "inference_config = InferenceConfig(entry_script='scoreScript.py',\n",
    "                                    environment=best_run.get_environment())\n",
    "\n",
    "# deploy\n",
    "from azureml.core.webservice import AciWebservice\n",
    "\n",
    "deployment_config = AciWebservice.deploy_configuration(cpu_cores = 1, memory_gb = 1)\n",
    "service = Model.deploy(ws, \"myservice\", [myModel], inference_config, deployment_config)\n",
    "service.wait_for_deployment(show_output = True)\n",
    "print(service.state)\n",
    "\n",
    "print(service.scoring_uri)\n",
    "\n",
    "print(service.swagger_uri)"
   ]
  },
  {
   "cell_type": "code",
   "execution_count": 16,
   "metadata": {},
   "outputs": [
    {
     "name": "stdout",
     "output_type": "stream",
     "text": [
      "{\"data\": [{\"Atr1\": 0, \"Atr2\": 0, \"Atr3\": 1, \"Atr4\": 0, \"Atr5\": 0, \"Atr6\": 2, \"Atr7\": 0, \"Atr8\": 0, \"Atr9\": 0, \"Atr10\": 1, \"Atr11\": 0, \"Atr12\": 2, \"Atr13\": 1, \"Atr14\": 0, \"Atr15\": 2, \"Atr16\": 0, \"Atr17\": 2, \"Atr18\": 1, \"Atr19\": 0, \"Atr20\": 1, \"Atr21\": 0, \"Atr22\": 0, \"Atr23\": 0, \"Atr24\": 0, \"Atr25\": 2, \"Atr26\": 2, \"Atr27\": 0, \"Atr28\": 0, \"Atr29\": 0, \"Atr30\": 0, \"Atr31\": 4, \"Atr32\": 1, \"Atr33\": 1, \"Atr34\": 1, \"Atr35\": 1, \"Atr36\": 1, \"Atr37\": 1, \"Atr38\": 2, \"Atr39\": 0, \"Atr40\": 2, \"Atr41\": 2, \"Atr42\": 1, \"Atr43\": 2, \"Atr44\": 3, \"Atr45\": 0, \"Atr46\": 2, \"Atr47\": 2, \"Atr48\": 1, \"Atr49\": 2, \"Atr50\": 1, \"Atr51\": 1, \"Atr52\": 1, \"Atr53\": 2, \"Atr54\": 0}, {\"Atr1\": 0, \"Atr2\": 0, \"Atr3\": 0, \"Atr4\": 0, \"Atr5\": 0, \"Atr6\": 0, \"Atr7\": 0, \"Atr8\": 0, \"Atr9\": 0, \"Atr10\": 0, \"Atr11\": 0, \"Atr12\": 0, \"Atr13\": 0, \"Atr14\": 0, \"Atr15\": 0, \"Atr16\": 0, \"Atr17\": 0, \"Atr18\": 0, \"Atr19\": 0, \"Atr20\": 0, \"Atr21\": 0, \"Atr22\": 0, \"Atr23\": 0, \"Atr24\": 0, \"Atr25\": 0, \"Atr26\": 0, \"Atr27\": 0, \"Atr28\": 0, \"Atr29\": 0, \"Atr30\": 0, \"Atr31\": 0, \"Atr32\": 0, \"Atr33\": 0, \"Atr34\": 0, \"Atr35\": 0, \"Atr36\": 0, \"Atr37\": 0, \"Atr38\": 0, \"Atr39\": 0, \"Atr40\": 0, \"Atr41\": 1, \"Atr42\": 2, \"Atr43\": 4, \"Atr44\": 2, \"Atr45\": 3, \"Atr46\": 1, \"Atr47\": 1, \"Atr48\": 2, \"Atr49\": 0, \"Atr50\": 0, \"Atr51\": 1, \"Atr52\": 4, \"Atr53\": 1, \"Atr54\": 2}, {\"Atr1\": 3, \"Atr2\": 2, \"Atr3\": 2, \"Atr4\": 3, \"Atr5\": 3, \"Atr6\": 2, \"Atr7\": 1, \"Atr8\": 2, \"Atr9\": 2, \"Atr10\": 3, \"Atr11\": 3, \"Atr12\": 2, \"Atr13\": 3, \"Atr14\": 2, \"Atr15\": 2, \"Atr16\": 3, \"Atr17\": 3, \"Atr18\": 2, \"Atr19\": 3, \"Atr20\": 2, \"Atr21\": 2, \"Atr22\": 3, \"Atr23\": 3, \"Atr24\": 2, \"Atr25\": 3, \"Atr26\": 2, \"Atr27\": 2, \"Atr28\": 3, \"Atr29\": 3, \"Atr30\": 2, \"Atr31\": 4, \"Atr32\": 4, \"Atr33\": 4, \"Atr34\": 4, \"Atr35\": 4, \"Atr36\": 4, \"Atr37\": 4, \"Atr38\": 4, \"Atr39\": 4, \"Atr40\": 4, \"Atr41\": 4, \"Atr42\": 4, \"Atr43\": 4, \"Atr44\": 4, \"Atr45\": 4, \"Atr46\": 4, \"Atr47\": 4, \"Atr48\": 4, \"Atr49\": 4, \"Atr50\": 4, \"Atr51\": 4, \"Atr52\": 4, \"Atr53\": 4, \"Atr54\": 4}, {\"Atr1\": 0, \"Atr2\": 0, \"Atr3\": 0, \"Atr4\": 0, \"Atr5\": 0, \"Atr6\": 0, \"Atr7\": 0, \"Atr8\": 0, \"Atr9\": 0, \"Atr10\": 0, \"Atr11\": 0, \"Atr12\": 0, \"Atr13\": 0, \"Atr14\": 0, \"Atr15\": 0, \"Atr16\": 0, \"Atr17\": 0, \"Atr18\": 0, \"Atr19\": 0, \"Atr20\": 0, \"Atr21\": 0, \"Atr22\": 0, \"Atr23\": 0, \"Atr24\": 0, \"Atr25\": 0, \"Atr26\": 0, \"Atr27\": 0, \"Atr28\": 0, \"Atr29\": 0, \"Atr30\": 0, \"Atr31\": 2, \"Atr32\": 1, \"Atr33\": 1, \"Atr34\": 1, \"Atr35\": 0, \"Atr36\": 0, \"Atr37\": 0, \"Atr38\": 1, \"Atr39\": 1, \"Atr40\": 0, \"Atr41\": 0, \"Atr42\": 3, \"Atr43\": 2, \"Atr44\": 1, \"Atr45\": 2, \"Atr46\": 2, \"Atr47\": 1, \"Atr48\": 2, \"Atr49\": 3, \"Atr50\": 2, \"Atr51\": 2, \"Atr52\": 3, \"Atr53\": 1, \"Atr54\": 1}, {\"Atr1\": 3, \"Atr2\": 4, \"Atr3\": 3, \"Atr4\": 2, \"Atr5\": 3, \"Atr6\": 0, \"Atr7\": 1, \"Atr8\": 4, \"Atr9\": 3, \"Atr10\": 2, \"Atr11\": 3, \"Atr12\": 4, \"Atr13\": 3, \"Atr14\": 4, \"Atr15\": 3, \"Atr16\": 2, \"Atr17\": 3, \"Atr18\": 4, \"Atr19\": 3, \"Atr20\": 4, \"Atr21\": 3, \"Atr22\": 2, \"Atr23\": 3, \"Atr24\": 4, \"Atr25\": 3, \"Atr26\": 4, \"Atr27\": 3, \"Atr28\": 2, \"Atr29\": 3, \"Atr30\": 4, \"Atr31\": 4, \"Atr32\": 4, \"Atr33\": 4, \"Atr34\": 4, \"Atr35\": 4, \"Atr36\": 4, \"Atr37\": 4, \"Atr38\": 4, \"Atr39\": 4, \"Atr40\": 4, \"Atr41\": 4, \"Atr42\": 4, \"Atr43\": 4, \"Atr44\": 4, \"Atr45\": 4, \"Atr46\": 4, \"Atr47\": 4, \"Atr48\": 4, \"Atr49\": 4, \"Atr50\": 4, \"Atr51\": 4, \"Atr52\": 4, \"Atr53\": 4, \"Atr54\": 4}]}\n"
     ]
    }
   ],
   "source": [
    "import json\n",
    "\n",
    "#Import test data\n",
    "test_df = data.sample(5) # data is the pandas dataframe of the original data\n",
    "label_df = test_df.pop('Class')\n",
    "\n",
    "test_sample = json.dumps({'data': test_df.to_dict(orient='records')})\n",
    "\n",
    "print(test_sample)"
   ]
  },
  {
   "cell_type": "markdown",
   "metadata": {
    "gather": {
     "logged": 1598431657736
    },
    "jupyter": {
     "outputs_hidden": false,
     "source_hidden": false
    },
    "nteract": {
     "transient": {
      "deleting": false
     }
    }
   },
   "source": [
    "TODO: In the cell below, send a request to the web service you deployed to test it."
   ]
  },
  {
   "cell_type": "code",
   "execution_count": 17,
   "metadata": {
    "gather": {
     "logged": 1598432707604
    },
    "jupyter": {
     "outputs_hidden": false,
     "source_hidden": false
    },
    "nteract": {
     "transient": {
      "deleting": false
     }
    }
   },
   "outputs": [],
   "source": [
    "import requests # Used for http post request\n",
    "\n",
    "# Set the content type\n",
    "headers = {'Content-type': 'application/json'}\n",
    "\n",
    "\n",
    "response = requests.post(service.scoring_uri, test_sample, headers=headers)"
   ]
  },
  {
   "cell_type": "code",
   "execution_count": 18,
   "metadata": {},
   "outputs": [
    {
     "name": "stdout",
     "output_type": "stream",
     "text": [
      "\"{\\\"result\\\": [1, 0, 1, 0, 1]}\"\n"
     ]
    }
   ],
   "source": [
    "# Print results from the inference\n",
    "print(response.text)"
   ]
  },
  {
   "cell_type": "code",
   "execution_count": 19,
   "metadata": {},
   "outputs": [
    {
     "name": "stdout",
     "output_type": "stream",
     "text": [
      "5      1\n",
      "102    0\n",
      "61     1\n",
      "135    0\n",
      "30     1\n",
      "Name: Class, dtype: int64\n"
     ]
    }
   ],
   "source": [
    "# Print original labels\n",
    "print(label_df)"
   ]
  },
  {
   "cell_type": "markdown",
   "metadata": {
    "gather": {
     "logged": 1598432765711
    },
    "jupyter": {
     "outputs_hidden": false,
     "source_hidden": false
    },
    "nteract": {
     "transient": {
      "deleting": false
     }
    }
   },
   "source": [
    "TODO: In the cell below, print the logs of the web service and delete the service"
   ]
  },
  {
   "cell_type": "code",
   "execution_count": 20,
   "metadata": {},
   "outputs": [
    {
     "name": "stdout",
     "output_type": "stream",
     "text": [
      "2023-01-04T14:32:31,230494181+00:00 - rsyslog/run \n",
      "2023-01-04T14:32:31,230469378+00:00 - gunicorn/run \n",
      "2023-01-04T14:32:31,230458276+00:00 - iot-server/run \n",
      "2023-01-04T14:32:31,233392600+00:00 | gunicorn/run | \n",
      "2023-01-04T14:32:31,235592617+00:00 | gunicorn/run | ###############################################\n",
      "2023-01-04T14:32:31,241544176+00:00 | gunicorn/run | AzureML Container Runtime Information\n",
      "2023-01-04T14:32:31,246621609+00:00 | gunicorn/run | ###############################################\n",
      "2023-01-04T14:32:31,253401188+00:00 | gunicorn/run | \n",
      "2023-01-04T14:32:31,257930341+00:00 | gunicorn/run | \n",
      "2023-01-04T14:32:31,282544994+00:00 | gunicorn/run | AzureML image information: openmpi3.1.2-ubuntu18.04, Materializaton Build:20221129.v2\n",
      "2023-01-04T14:32:31,286570775+00:00 | gunicorn/run | \n",
      "2023-01-04T14:32:31,291393371+00:00 | gunicorn/run | \n",
      "2023-01-04T14:32:31,301847280+00:00 | gunicorn/run | PATH environment variable: /azureml-envs/azureml_4ceb345e4e0a419c28b56298b234f6b5/bin:/opt/miniconda/bin:/usr/local/sbin:/usr/local/bin:/usr/sbin:/usr/bin:/sbin:/bin\n",
      "2023-01-04T14:32:31,305046342+00:00 - nginx/run \n",
      "2023-01-04T14:32:31,324284818+00:00 | gunicorn/run | PYTHONPATH environment variable: \n",
      "2023-01-04T14:32:31,326233800+00:00 | gunicorn/run | \n",
      "2023-01-04T14:32:31,334060129+00:00 | gunicorn/run | Pip Dependencies (before dynamic installation)\n",
      "\n",
      "EdgeHubConnectionString and IOTEDGE_IOTHUBHOSTNAME are not set. Exiting...\n",
      "2023-01-04T14:32:32,670536386+00:00 - iot-server/finish 1 0\n",
      "2023-01-04T14:32:32,672754298+00:00 - Exit code 1 is normal. Not restarting iot-server.\n",
      "adal==1.2.7\n",
      "applicationinsights==0.11.10\n",
      "argcomplete==2.0.0\n",
      "arviz @ file:///home/conda/feedstock_root/build_artifacts/arviz_1666645025910/work\n",
      "attrs==22.1.0\n",
      "azure-common==1.1.28\n",
      "azure-core==1.26.1\n",
      "azure-graphrbac==0.61.1\n",
      "azure-identity==1.12.0\n",
      "azure-mgmt-authorization==3.0.0\n",
      "azure-mgmt-containerregistry==10.0.0\n",
      "azure-mgmt-core==1.3.2\n",
      "azure-mgmt-keyvault==10.1.0\n",
      "azure-mgmt-resource==21.2.1\n",
      "azure-mgmt-storage==20.1.0\n",
      "azure-storage-blob==12.13.0\n",
      "azure-storage-queue==12.5.0\n",
      "azureml-automl-core==1.48.0\n",
      "azureml-automl-runtime==1.48.0.post1\n",
      "azureml-core==1.48.0\n",
      "azureml-dataprep==4.8.3\n",
      "azureml-dataprep-native==38.0.0\n",
      "azureml-dataprep-rslex==2.15.1\n",
      "azureml-dataset-runtime==1.48.0\n",
      "azureml-defaults==1.48.0\n",
      "azureml-inference-server-http==0.7.7\n",
      "azureml-interpret==1.48.0\n",
      "azureml-mlflow==1.48.0\n",
      "azureml-pipeline-core==1.48.0\n",
      "azureml-responsibleai==1.48.0\n",
      "azureml-telemetry==1.48.0\n",
      "azureml-train-automl-client==1.48.0\n",
      "azureml-train-automl-runtime==1.48.0\n",
      "azureml-train-core==1.48.0\n",
      "azureml-train-restclients-hyperdrive==1.48.0\n",
      "azureml-training-tabular==1.48.0\n",
      "backcall==0.2.0\n",
      "backports.tempfile==1.0\n",
      "backports.weakref==1.0.post1\n",
      "bcrypt==4.0.1\n",
      "bokeh==2.4.3\n",
      "boto==2.49.0\n",
      "boto3 @ file:///home/conda/feedstock_root/build_artifacts/boto3_1602889982367/work\n",
      "botocore @ file:///home/conda/feedstock_root/build_artifacts/botocore_1602884371056/work\n",
      "brotlipy @ file:///home/conda/feedstock_root/build_artifacts/brotlipy_1648854164153/work\n",
      "cachetools==5.2.0\n",
      "certifi==2022.12.7\n",
      "cffi @ file:///home/conda/feedstock_root/build_artifacts/cffi_1625835301720/work\n",
      "cftime @ file:///home/conda/feedstock_root/build_artifacts/cftime_1663606412550/work\n",
      "charset-normalizer==2.1.1\n",
      "click @ file:///home/conda/feedstock_root/build_artifacts/click_1645238117885/work\n",
      "cloudpickle @ file:///home/conda/feedstock_root/build_artifacts/cloudpickle_1598400192773/work\n",
      "colorama @ file:///home/conda/feedstock_root/build_artifacts/colorama_1666700638685/work\n",
      "contextlib2==21.6.0\n",
      "convertdate @ file:///home/conda/feedstock_root/build_artifacts/convertdate_1642883757836/work\n",
      "cryptography @ file:///home/conda/feedstock_root/build_artifacts/cryptography_1666563349571/work\n",
      "cycler @ file:///home/conda/feedstock_root/build_artifacts/cycler_1635519461629/work\n",
      "Cython==0.29.17\n",
      "dask==2021.6.0\n",
      "databricks-cli==0.17.4\n",
      "dataclasses==0.6\n",
      "debugpy==1.6.4\n",
      "decorator==5.1.1\n",
      "dice-ml==0.9\n",
      "dill==0.3.6\n",
      "distributed==2021.6.0\n",
      "distro==1.8.0\n",
      "docker==6.0.1\n",
      "dotnetcore2==3.1.23\n",
      "econml==0.14.0\n",
      "entrypoints==0.4\n",
      "ephem @ file:///home/conda/feedstock_root/build_artifacts/ephem_1649637195901/work\n",
      "erroranalysis==0.3.13\n",
      "fairlearn==0.7.0\n",
      "fbprophet @ file:///home/conda/feedstock_root/build_artifacts/fbprophet_1599365534439/work\n",
      "fire==0.5.0\n",
      "Flask==2.2.2\n",
      "Flask-Cors==3.0.10\n",
      "flatbuffers==22.12.6\n",
      "fonttools @ file:///home/conda/feedstock_root/build_artifacts/fonttools_1666389892786/work\n",
      "fsspec==2022.11.0\n",
      "gensim==3.8.3\n",
      "gitdb==4.0.10\n",
      "GitPython==3.1.29\n",
      "google-api-core==2.11.0\n",
      "google-auth==2.15.0\n",
      "googleapis-common-protos==1.57.0\n",
      "gunicorn==20.1.0\n",
      "h5py==3.7.0\n",
      "HeapDict==1.0.1\n",
      "holidays @ file:///home/conda/feedstock_root/build_artifacts/holidays_1595448845196/work\n",
      "humanfriendly==10.0\n",
      "idna @ file:///home/conda/feedstock_root/build_artifacts/idna_1663625384323/work\n",
      "importlib-metadata @ file:///home/conda/feedstock_root/build_artifacts/importlib-metadata_1653252814274/work\n",
      "importlib-resources==5.10.1\n",
      "inference-schema==1.5\n",
      "interpret-community==0.27.0\n",
      "interpret-core==0.2.7\n",
      "ipykernel==6.6.0\n",
      "ipython==7.34.0\n",
      "isodate==0.6.1\n",
      "itsdangerous==2.1.2\n",
      "jedi==0.18.2\n",
      "jeepney==0.8.0\n",
      "Jinja2==3.1.2\n",
      "jmespath @ file:///home/conda/feedstock_root/build_artifacts/jmespath_1589369830981/work\n",
      "joblib @ file:///home/conda/feedstock_root/build_artifacts/joblib_1589548394565/work\n",
      "jsonpickle==2.2.0\n",
      "jsonschema==4.17.3\n",
      "jupyter-client==7.4.8\n",
      "jupyter-core==4.12.0\n",
      "keras2onnx==1.6.0\n",
      "kiwisolver @ file:///home/conda/feedstock_root/build_artifacts/kiwisolver_1657953088445/work\n",
      "knack==0.10.1\n",
      "korean-lunar-calendar @ file:///home/conda/feedstock_root/build_artifacts/korean_lunar_calendar_1663341251025/work\n",
      "lightgbm==3.2.1\n",
      "llvmlite==0.38.1\n",
      "locket==1.0.0\n",
      "LunarCalendar==0.0.9\n",
      "MarkupSafe==2.0.1\n",
      "matplotlib @ file:///home/conda/feedstock_root/build_artifacts/matplotlib-suite_1661439848456/work\n",
      "matplotlib-inline==0.1.6\n",
      "ml-wrappers==0.2.2\n",
      "mlflow-skinny==1.30.0\n",
      "mpi4py==3.1.3\n",
      "msal==1.20.0\n",
      "msal-extensions==1.0.0\n",
      "msgpack==1.0.4\n",
      "msrest==0.7.1\n",
      "msrestazure==0.6.4\n",
      "munkres==1.1.4\n",
      "ndg-httpsclient==0.5.1\n",
      "nest-asyncio==1.5.6\n",
      "netCDF4 @ file:///home/conda/feedstock_root/build_artifacts/netcdf4_1663234155476/work\n",
      "networkx==2.5\n",
      "nimbusml==1.8.0\n",
      "numba==0.55.2\n",
      "numpy @ file:///home/conda/feedstock_root/build_artifacts/numpy_1649806299270/work\n",
      "oauthlib==3.2.2\n",
      "onnx==1.12.0\n",
      "onnxconverter-common==1.6.0\n",
      "onnxmltools==1.4.1\n",
      "onnxruntime==1.11.1\n",
      "opencensus==0.11.0\n",
      "opencensus-context==0.1.3\n",
      "opencensus-ext-azure==1.1.7\n",
      "packaging==21.3\n",
      "pandas==1.1.5\n",
      "paramiko==2.12.0\n",
      "parso==0.8.3\n",
      "partd==1.3.0\n",
      "pathspec==0.10.3\n",
      "patsy==0.5.3\n",
      "pexpect==4.8.0\n",
      "pickleshare==0.7.5\n",
      "Pillow @ file:///home/conda/feedstock_root/build_artifacts/pillow_1660385854171/work\n",
      "pkginfo==1.9.2\n",
      "pkgutil-resolve-name==1.3.10\n",
      "pmdarima==1.7.1\n",
      "portalocker==2.6.0\n",
      "prompt-toolkit==3.0.36\n",
      "protobuf==3.20.1\n",
      "psutil @ file:///home/conda/feedstock_root/build_artifacts/psutil_1666155398032/work\n",
      "ptyprocess==0.7.0\n",
      "py-cpuinfo==5.0.0\n",
      "pyarrow==9.0.0\n",
      "pyasn1==0.4.8\n",
      "pyasn1-modules==0.2.8\n",
      "pycparser @ file:///home/conda/feedstock_root/build_artifacts/pycparser_1636257122734/work\n",
      "Pygments==2.13.0\n",
      "PyJWT==2.6.0\n",
      "PyMeeus @ file:///home/conda/feedstock_root/build_artifacts/pymeeus_1670868433998/work\n",
      "PyNaCl==1.5.0\n",
      "pyOpenSSL @ file:///home/conda/feedstock_root/build_artifacts/pyopenssl_1665350324128/work\n",
      "pyparsing @ file:///home/conda/feedstock_root/build_artifacts/pyparsing_1652235407899/work\n",
      "pyrsistent==0.19.2\n",
      "PySocks @ file:///home/conda/feedstock_root/build_artifacts/pysocks_1648857264451/work\n",
      "pystan @ file:///home/conda/feedstock_root/build_artifacts/pystan_1598392733373/work\n",
      "python-dateutil @ file:///home/conda/feedstock_root/build_artifacts/python-dateutil_1626286286081/work\n",
      "pytz @ file:///home/conda/feedstock_root/build_artifacts/pytz_1667391478166/work\n",
      "PyYAML==6.0\n",
      "pyzmq==24.0.1\n",
      "raiutils==0.2.0\n",
      "requests==2.28.1\n",
      "requests-oauthlib==1.3.1\n",
      "responsibleai==0.23.0\n",
      "rsa==4.9\n",
      "s3transfer @ file:///home/conda/feedstock_root/build_artifacts/s3transfer_1618355402893/work\n",
      "scikit-learn==0.22.1\n",
      "scipy==1.5.3\n",
      "SecretStorage==3.3.3\n",
      "semver==2.13.0\n",
      "setuptools-git==1.2\n",
      "shap==0.39.0\n",
      "six @ file:///home/conda/feedstock_root/build_artifacts/six_1620240208055/work\n",
      "skl2onnx==1.4.9\n",
      "sklearn-pandas==1.7.0\n",
      "slicer==0.0.7\n",
      "smart-open==1.9.0\n",
      "smmap==5.0.0\n",
      "sortedcontainers==2.4.0\n",
      "sparse==0.13.0\n",
      "sqlparse==0.4.3\n",
      "statsmodels==0.11.1\n",
      "tabulate==0.9.0\n",
      "tblib==1.7.0\n",
      "termcolor==2.1.1\n",
      "toolz==0.12.0\n",
      "tornado==6.2\n",
      "tqdm @ file:///home/conda/feedstock_root/build_artifacts/tqdm_1662214488106/work\n",
      "traitlets==5.7.1\n",
      "typing-extensions @ file:///home/conda/feedstock_root/build_artifacts/typing_extensions_1665144421445/work\n",
      "unicodedata2 @ file:///home/conda/feedstock_root/build_artifacts/unicodedata2_1649111917568/work\n",
      "urllib3 @ file:///home/conda/feedstock_root/build_artifacts/urllib3_1603125704209/work\n",
      "wcwidth==0.2.5\n",
      "websocket-client==1.4.2\n",
      "Werkzeug==2.2.2\n",
      "wrapt==1.12.1\n",
      "xarray @ file:///home/conda/feedstock_root/build_artifacts/xarray_1639125986756/work\n",
      "xarray-einstats @ file:///home/conda/feedstock_root/build_artifacts/xarray-einstats_1648967091347/work\n",
      "xgboost==1.3.3\n",
      "zict==2.2.0\n",
      "zipp @ file:///home/conda/feedstock_root/build_artifacts/zipp_1669453021653/work\n",
      "\n",
      "2023-01-04T14:32:35,176627776+00:00 | gunicorn/run | \n",
      "2023-01-04T14:32:35,178531886+00:00 | gunicorn/run | ###############################################\n",
      "2023-01-04T14:32:35,184460018+00:00 | gunicorn/run | AzureML Inference Server\n",
      "2023-01-04T14:32:35,185909426+00:00 | gunicorn/run | ###############################################\n",
      "2023-01-04T14:32:35,187263333+00:00 | gunicorn/run | \n",
      "2023-01-04T14:32:39,004877133+00:00 | gunicorn/run | Starting AzureML Inference Server HTTP.\n",
      "\n",
      "Azure ML Inferencing HTTP server v0.7.7\n",
      "\n",
      "\n",
      "Server Settings\n",
      "---------------\n",
      "Entry Script Name: /var/azureml-app/main.py\n",
      "Model Directory: /var/azureml-app/azureml-models/capstoneModel_automl/1\n",
      "Worker Count: 1\n",
      "Worker Timeout (seconds): 300\n",
      "Server Port: 31311\n",
      "Application Insights Enabled: false\n",
      "Application Insights Key: None\n",
      "Inferencing HTTP server version: azmlinfsrv/0.7.7\n",
      "CORS for the specified origins: None\n",
      "\n",
      "\n",
      "Server Routes\n",
      "---------------\n",
      "Liveness Probe: GET   127.0.0.1:31311/\n",
      "Score:          POST  127.0.0.1:31311/score\n",
      "\n",
      "Starting gunicorn 20.1.0\n",
      "Listening at: http://0.0.0.0:31311 (76)\n",
      "Using worker: sync\n",
      "Booting worker with pid: 133\n",
      "Initializing logger\n",
      "2023-01-04 14:32:41,672 | root | INFO | Starting up app insights client\n",
      "logging socket was found. logging is available.\n",
      "logging socket was found. logging is available.\n",
      "2023-01-04 14:32:41,676 | root | INFO | Starting up app insight hooks\n",
      "2023-01-04 14:32:44,467 | root | INFO | Found driver script at /var/azureml-app/main.py and the score script at /var/azureml-app/scoreScript.py\n",
      "2023-01-04 14:32:44,468 | root | INFO | run() is decorated with @input_schema. Server will invoke it with the following arguments: data, method.\n",
      "2023-01-04 14:32:44,468 | root | INFO | Invoking user's init function\n",
      "generated new fontManager\n",
      "Importing plotly failed. Interactive plots will not work.\n",
      "2023-01-04 14:33:08,228 | azureml.core | WARNING | Failure while loading azureml_run_type_providers. Failed to load entrypoint azureml.scriptrun = azureml.core.script_run:ScriptRun._from_run_dto with exception (urllib3 1.25.11 (/azureml-envs/azureml_4ceb345e4e0a419c28b56298b234f6b5/lib/python3.7/site-packages), Requirement.parse('urllib3>=1.26.0'), {'docker'}).\n",
      "Failure while loading azureml_run_type_providers. Failed to load entrypoint azureml.scriptrun = azureml.core.script_run:ScriptRun._from_run_dto with exception (urllib3 1.25.11 (/azureml-envs/azureml_4ceb345e4e0a419c28b56298b234f6b5/lib/python3.7/site-packages), Requirement.parse('urllib3>=1.26.0'), {'docker'}).\n",
      "2023-01-04 14:33:08,248 | azureml.core | WARNING | Failure while loading azureml_run_type_providers. Failed to load entrypoint azureml.PipelineRun = azureml.pipeline.core.run:PipelineRun._from_dto with exception (urllib3 1.25.11 (/azureml-envs/azureml_4ceb345e4e0a419c28b56298b234f6b5/lib/python3.7/site-packages), Requirement.parse('urllib3>=1.26.0'), {'docker'}).\n",
      "Failure while loading azureml_run_type_providers. Failed to load entrypoint azureml.PipelineRun = azureml.pipeline.core.run:PipelineRun._from_dto with exception (urllib3 1.25.11 (/azureml-envs/azureml_4ceb345e4e0a419c28b56298b234f6b5/lib/python3.7/site-packages), Requirement.parse('urllib3>=1.26.0'), {'docker'}).\n",
      "2023-01-04 14:33:08,265 | azureml.core | WARNING | Failure while loading azureml_run_type_providers. Failed to load entrypoint azureml.ReusedStepRun = azureml.pipeline.core.run:StepRun._from_reused_dto with exception (urllib3 1.25.11 (/azureml-envs/azureml_4ceb345e4e0a419c28b56298b234f6b5/lib/python3.7/site-packages), Requirement.parse('urllib3>=1.26.0'), {'docker'}).\n",
      "Failure while loading azureml_run_type_providers. Failed to load entrypoint azureml.ReusedStepRun = azureml.pipeline.core.run:StepRun._from_reused_dto with exception (urllib3 1.25.11 (/azureml-envs/azureml_4ceb345e4e0a419c28b56298b234f6b5/lib/python3.7/site-packages), Requirement.parse('urllib3>=1.26.0'), {'docker'}).\n",
      "2023-01-04 14:33:08,283 | azureml.core | WARNING | Failure while loading azureml_run_type_providers. Failed to load entrypoint azureml.StepRun = azureml.pipeline.core.run:StepRun._from_dto with exception (urllib3 1.25.11 (/azureml-envs/azureml_4ceb345e4e0a419c28b56298b234f6b5/lib/python3.7/site-packages), Requirement.parse('urllib3>=1.26.0'), {'docker'}).\n",
      "Failure while loading azureml_run_type_providers. Failed to load entrypoint azureml.StepRun = azureml.pipeline.core.run:StepRun._from_dto with exception (urllib3 1.25.11 (/azureml-envs/azureml_4ceb345e4e0a419c28b56298b234f6b5/lib/python3.7/site-packages), Requirement.parse('urllib3>=1.26.0'), {'docker'}).\n",
      "2023-01-04 14:33:08,390 | azureml.core | WARNING | Failure while loading azureml_run_type_providers. Failed to load entrypoint automl = azureml.train.automl.run:AutoMLRun._from_run_dto with exception (urllib3 1.25.11 (/azureml-envs/azureml_4ceb345e4e0a419c28b56298b234f6b5/lib/python3.7/site-packages), Requirement.parse('urllib3>=1.26.0'), {'docker'}).\n",
      "Failure while loading azureml_run_type_providers. Failed to load entrypoint automl = azureml.train.automl.run:AutoMLRun._from_run_dto with exception (urllib3 1.25.11 (/azureml-envs/azureml_4ceb345e4e0a419c28b56298b234f6b5/lib/python3.7/site-packages), Requirement.parse('urllib3>=1.26.0'), {'docker'}).\n",
      "2023-01-04 14:33:08,418 | azureml.core | WARNING | Failure while loading azureml_run_type_providers. Failed to load entrypoint hyperdrive = azureml.train.hyperdrive:HyperDriveRun._from_run_dto with exception (urllib3 1.25.11 (/azureml-envs/azureml_4ceb345e4e0a419c28b56298b234f6b5/lib/python3.7/site-packages), Requirement.parse('urllib3>=1.26.0'), {'docker'}).\n",
      "Failure while loading azureml_run_type_providers. Failed to load entrypoint hyperdrive = azureml.train.hyperdrive:HyperDriveRun._from_run_dto with exception (urllib3 1.25.11 (/azureml-envs/azureml_4ceb345e4e0a419c28b56298b234f6b5/lib/python3.7/site-packages), Requirement.parse('urllib3>=1.26.0'), {'docker'}).\n",
      "2023-01-04 14:33:12,113 | root | INFO | Users's init has completed successfully\n",
      "2023-01-04 14:33:12,123 | root | INFO | Swaggers are prepared for the following versions: [2, 3].\n",
      "2023-01-04 14:33:12,123 | root | INFO | Scoring timeout is found from os.environ: 60000 ms\n",
      "2023-01-04 14:33:12,124 | root | INFO | AML_FLASK_ONE_COMPATIBILITY is set. Patched Flask to ensure compatibility with Flask 1.\n",
      "2023-01-04 14:33:23,978 | root | INFO | 200\n",
      "127.0.0.1 - - [04/Jan/2023:14:33:23 +0000] \"GET /swagger.json HTTP/1.0\" 200 6281 \"-\" \"Go-http-client/1.1\"\n",
      "2023-01-04 14:33:26,970 | root | INFO | 200\n",
      "127.0.0.1 - - [04/Jan/2023:14:33:26 +0000] \"GET /swagger.json HTTP/1.0\" 200 6281 \"-\" \"Go-http-client/1.1\"\n",
      "2023-01-04 14:37:21,527 | root | INFO | 200\n",
      "127.0.0.1 - - [04/Jan/2023:14:37:21 +0000] \"GET /swagger.json HTTP/1.0\" 200 6281 \"-\" \"Go-http-client/1.1\"\n",
      "2023-01-04 14:37:37,936 | root | INFO | 200\n",
      "127.0.0.1 - - [04/Jan/2023:14:37:37 +0000] \"POST /score HTTP/1.0\" 200 31 \"-\" \"python-requests/2.28.1\"\n",
      "\n"
     ]
    }
   ],
   "source": [
    "print(service.get_logs())"
   ]
  },
  {
   "cell_type": "code",
   "execution_count": 21,
   "metadata": {
    "jupyter": {
     "outputs_hidden": false,
     "source_hidden": false
    },
    "nteract": {
     "transient": {
      "deleting": false
     }
    }
   },
   "outputs": [],
   "source": [
    "service.delete()"
   ]
  },
  {
   "cell_type": "code",
   "execution_count": null,
   "metadata": {},
   "outputs": [],
   "source": []
  },
  {
   "cell_type": "code",
   "execution_count": null,
   "metadata": {},
   "outputs": [],
   "source": []
  }
 ],
 "metadata": {
  "kernel_info": {
   "name": "python3-azureml"
  },
  "kernelspec": {
   "display_name": "Python 3 (ipykernel)",
   "language": "python",
   "name": "python3"
  },
  "language_info": {
   "codemirror_mode": {
    "name": "ipython",
    "version": 3
   },
   "file_extension": ".py",
   "mimetype": "text/x-python",
   "name": "python",
   "nbconvert_exporter": "python",
   "pygments_lexer": "ipython3",
   "version": "3.8.5"
  },
  "nteract": {
   "version": "nteract-front-end@1.0.0"
  }
 },
 "nbformat": 4,
 "nbformat_minor": 4
}
